{
 "cells": [
  {
   "cell_type": "code",
   "execution_count": 222,
   "metadata": {},
   "outputs": [],
   "source": [
    "from math import *\n",
    "import matplotlib.pyplot as plt"
   ]
  },
  {
   "cell_type": "code",
   "execution_count": 223,
   "metadata": {},
   "outputs": [],
   "source": [
    "def EucDist(X, Y):\n",
    "    # X and Y are lists with coordinates of points in arbitrary dimensions\n",
    "    return sqrt(sum([ (x-y)**2 for x,y in zip(X,Y) ]))"
   ]
  },
  {
   "cell_type": "code",
   "execution_count": 225,
   "metadata": {},
   "outputs": [],
   "source": [
    "def sd(data):\n",
    "    n = len(data)\n",
    "\n",
    "    if n <= 1:\n",
    "        return 0.0\n",
    "\n",
    "    mean, sd = avg(data), 0.0\n",
    "\n",
    "    # calculate stan. dev.\n",
    "    for el in data:\n",
    "        sd += (float(el) - mean)**2\n",
    "    sd = sqrt(sd / float(n-1))\n",
    "\n",
    "    return sd\n",
    "\n",
    "def avg(ls):\n",
    "    n, mean = len(ls), 0.0\n",
    "\n",
    "    if n <= 1:\n",
    "        return ls[0]\n",
    "\n",
    "    # calculate average\n",
    "    for el in ls:\n",
    "        mean = mean + float(el)\n",
    "    mean = mean / float(n)\n",
    "\n",
    "    return mean\n"
   ]
  },
  {
   "cell_type": "code",
   "execution_count": 243,
   "metadata": {},
   "outputs": [],
   "source": [
    "M=Q_sample\n",
    "N=T_sample\n",
    "\n",
    "m_pt = 187\n",
    "n_pt = 187\n",
    "\n",
    "window = 10"
   ]
  },
  {
   "cell_type": "code",
   "execution_count": 264,
   "metadata": {},
   "outputs": [],
   "source": [
    "def GetAlignedWindows(M, N, m_pt, n_pt, window):\n",
    "    \n",
    "    # for the given point in each set of points\n",
    "    # extract the window of interest\n",
    "    # align the sequence of points\n",
    "    # calculate and return the distance between aligned windows\n",
    "    \n",
    "    # get the window of points for M\n",
    "    M_pts = [ m_pt + v for v in range(-window,window+1)]\n",
    "    for i,v in enumerate(M_pts):\n",
    "        if v < 0:\n",
    "            M_pts[i] += len(M)\n",
    "        elif v >= len(M):\n",
    "            M_pts[i] -= len(M)\n",
    "    \n",
    "    M_window = { pt:{'x':M[list(M.keys())[pt]]['x'],\n",
    "                     'y':M[list(M.keys())[pt]]['y']} for pt in M_pts }\n",
    "\n",
    "    # get window of points for N and apply shift\n",
    "            \n",
    "    # find the shift needed to align the given points\n",
    "    # 2-dimensional for now\n",
    "    x_shift = M[list(M.keys())[m_pt]]['x'] - N[list(N.keys())[n_pt]]['x']\n",
    "    y_shift = M[list(M.keys())[m_pt]]['y'] - N[list(N.keys())[n_pt]]['y']\n",
    "    \n",
    "    # get window of points for N and apply shift\n",
    "    N_pts = [ n_pt + v for v in range(-window,window+1)]\n",
    "    for i,v in enumerate(N_pts):\n",
    "        if v < 0:\n",
    "            N_pts[i] += len(N)\n",
    "        elif v >= len(N):\n",
    "            N_pts[i] -= len(N)\n",
    "    \n",
    "    N_window = { pt:{'x':N[list(N.keys())[pt]]['x'] + x_shift,\n",
    "                     'y':N[list(N.keys())[pt]]['y'] + y_shift} for pt in N_pts} \n",
    "\n",
    "    return M_window, N_window\n",
    "    "
   ]
  },
  {
   "cell_type": "code",
   "execution_count": 265,
   "metadata": {},
   "outputs": [],
   "source": [
    "def AlignScore(M, N, m_pt, n_pt, window):\n",
    "    \n",
    "    # get the aligned windows\n",
    "    M_window, N_window = GetAlignedWindows(M, N, m_pt, n_pt, window)\n",
    "    \n",
    "    # compute similarity score \n",
    "    sum = 0.0\n",
    "    for M_pt, N_pt in zip(M_window.keys(), N_window.keys()):\n",
    "        sum += EucDist( [ M_window[M_pt]['x'], M_window[M_pt]['y'] ],\n",
    "                        [ N_window[N_pt]['x'], N_window[N_pt]['y'] ])\n",
    "    return sqrt(sum)"
   ]
  },
  {
   "cell_type": "code",
   "execution_count": 276,
   "metadata": {},
   "outputs": [],
   "source": [
    "def LCSubStr(M, N, mode = 'max distance', window=10, \n",
    "             cutoff = 100, avg, sd): \n",
    "      \n",
    "    # Create a table to store lengths of \n",
    "    # longest common suffixes of substrings.  \n",
    "    # Note that LCSuff[i][j] contains the  \n",
    "    # length of longest common suffix of  \n",
    "    # X[0...i-1] and Y[0...j-1]. The first \n",
    "    # row and first column entries have no \n",
    "    # logical meaning, they are used only \n",
    "    # for simplicity of the program. \n",
    "    \n",
    "    mx = 0.0\n",
    "    mx_M = 0\n",
    "    mx_N = 0\n",
    "    \n",
    "    # LCSuff is the table with zero  \n",
    "    # value initially in each cell \n",
    "    LCSuff = [[0 for k in range(len(N)+1)] for l in range(len(M)+1)] \n",
    "      \n",
    "    # Following steps to build \n",
    "    # LCSuff[m+1][n+1] in bottom up fashion \n",
    "    for i in range(len(M) + 1): \n",
    "        for j in range(len(N) + 1): \n",
    "            if (i == 0 or j == 0): \n",
    "                LCSuff[i][j] = 0\n",
    "            else:\n",
    "                d = AlignScore(M, N, i-1, j-1, window)\n",
    "                if mode == 'max distance': #return actual distances - used to establish cutoff\n",
    "                    LCSuff[i][j] = d\n",
    "                elif mode == 'min distance': #return actual distances - used to establish cutoff\n",
    "                    LCSuff[i][j] = 1/d\n",
    "                elif mode == 'NW_align': # Needleman-Wunsch - global alignment\n",
    "                    if d < cutoff: \n",
    "                        LCSuff[i][j] = LCSuff[i-1][j-1] + 1\n",
    "                    else: #ignore distances above cutoff\n",
    "                        LCSuff[i][j] = LCSuff[i-1][j-1] - 1\n",
    "                elif mode == 'SW align': #Smith-Waterman - local alignment\n",
    "                    if dist_score:\n",
    "                        qtile = (d-avg)/sd\n",
    "                        LCSuff[i][j] = LCSuff[i-1][j-1] - qtile\n",
    "                    else:\n",
    "                        if d < cutoff: \n",
    "                            LCSuff[i][j] = LCSuff[i-1][j-1] + 1\n",
    "                        else: #ignore distances above cutoff\n",
    "                            LCSuff[i][j] = LCSuff[i-1][j-1] - 1\n",
    "                    LCSuff[i][j] = max(0,LCSuff[i][j])\n",
    "\n",
    "                if LCSuff[i][j] > mx:\n",
    "                    mx = LCSuff[i][j]\n",
    "                    mx_M = i\n",
    "                    mx_N = j\n",
    "        \n",
    "    return LCSuff, mx, mx_M, mx_N "
   ]
  },
  {
   "cell_type": "code",
   "execution_count": 267,
   "metadata": {},
   "outputs": [],
   "source": [
    "# Load pieces\n",
    "C_order_pts = {}\n",
    "C_dists = []\n",
    "fin = open('C_dists.csv', 'r')\n",
    "for i,l in enumerate(fin):\n",
    "    tok = l.rstrip().split(',')\n",
    "    C_order_pts[i] = int(tok[0])\n",
    "    C_dists.append( [float(v) for v in tok[1:]] )\n",
    "fin.close()\n",
    "\n",
    "N_order_pts = {}\n",
    "N_dists = []\n",
    "fin = open('N_dists.csv', 'r')\n",
    "for i,l in enumerate(fin):\n",
    "    tok = l.rstrip().split(',')\n",
    "    N_order_pts[i] = int(tok[0])\n",
    "    N_dists.append( [float(v) for v in tok[1:]] )\n",
    "fin.close()\n",
    "\n",
    "S_order_pts = {}\n",
    "S_dists = []\n",
    "fin = open('S_dists.csv', 'r')\n",
    "for i,l in enumerate(fin):\n",
    "    tok = l.rstrip().split(',')\n",
    "    S_order_pts[i] = int(tok[0])\n",
    "    S_dists.append( [float(v) for v in tok[1:]] )\n",
    "fin.close()\n",
    "\n",
    "C_pts = {}\n",
    "fin = open('C_border_ordered.csv')\n",
    "h = fin.readline()\n",
    "for i,l in enumerate(fin):\n",
    "    tok = l.rstrip().split(',')\n",
    "    C_pts[i] = {}\n",
    "    C_pts[i]['x'] = int(tok[0])\n",
    "    C_pts[i]['y'] = int(tok[1])\n",
    "fin.close()\n",
    "\n",
    "N_pts = {}\n",
    "fin = open('N_border_ordered.csv')\n",
    "h = fin.readline()\n",
    "for i,l in enumerate(fin):\n",
    "    tok = l.rstrip().split(',')\n",
    "    N_pts[i] = {}\n",
    "    N_pts[i]['x'] = int(tok[0])\n",
    "    N_pts[i]['y'] = int(tok[1])\n",
    "fin.close()\n",
    "\n",
    "S_pts = {}\n",
    "fin = open('S_border_ordered.csv')\n",
    "h = fin.readline()\n",
    "for i,l in enumerate(fin):\n",
    "    tok = l.rstrip().split(',')\n",
    "    S_pts[i] = {}\n",
    "    S_pts[i]['x'] = int(tok[0])\n",
    "    S_pts[i]['y'] = int(tok[1])\n",
    "fin.close()"
   ]
  },
  {
   "cell_type": "code",
   "execution_count": 301,
   "metadata": {
    "scrolled": false
   },
   "outputs": [
    {
     "name": "stdout",
     "output_type": "stream",
     "text": [
      "26 61 55\n"
     ]
    },
    {
     "data": {
      "text/plain": [
       "<matplotlib.collections.PathCollection at 0x7f4cee8afd10>"
      ]
     },
     "execution_count": 301,
     "metadata": {},
     "output_type": "execute_result"
    },
    {
     "data": {
      "image/png": "[encoded data removed]",
      "text/plain": [
       "<Figure size 720x720 with 1 Axes>"
      ]
     },
     "metadata": {
      "needs_background": "light"
     },
     "output_type": "display_data"
    }
   ],
   "source": [
    "%matplotlib inline\n",
    "\n",
    "#query piece\n",
    "Q_pts = C_pts\n",
    "Q_order_pts = C_order_pts\n",
    "Q_sample = { pt:Q_pts[pt] for i,pt in Q_order_pts.items() }\n",
    "\n",
    "#target piece - reverse order of sample\n",
    "T_pts = S_pts\n",
    "T_order_pts = S_order_pts\n",
    "T_sample = { i:T_pts[T_order_pts[i]] for i in list(T_order_pts.keys())[::-1] }\n",
    "\n",
    "LCSuff, mx, mx_x, mx_y = LCSubStr(Q_sample, T_sample, \n",
    "                                  mode = 'SW align', window = 10, cutoff = 20,\n",
    "                                 )\n",
    "print(mx, mx_x, mx_y)\n",
    "\n",
    "#find the best matched point - this is the end of the best match window\n",
    "Q_pt = Q_order_pts[list(Q_order_pts.keys())[mx_x-1]]\n",
    "T_pt = T_order_pts[list(T_order_pts.keys())[::-1][mx_y-1]] \n",
    "\n",
    "Q_xshift = Q_pts[Q_pt]['x'] - T_pts[T_pt]['x']\n",
    "Q_yshift = Q_pts[Q_pt]['y'] - T_pts[T_pt]['y'] \n",
    "\n",
    "plt.figure(figsize = [10,10])\n",
    "plt.scatter( [Q_pts[k]['x'] - Q_xshift for k,v in Q_pts.items() ],\n",
    "             [Q_pts[k]['y'] - Q_yshift for k,v in Q_pts.items() ])\n",
    "plt.scatter( [T_pts[k]['x'] for k,v in T_pts.items() ],\n",
    "             [T_pts[k]['y'] for k,v in T_pts.items() ])\n",
    "\n",
    "plt.plot( [Q_pts[Q_pt]['x'] - Q_xshift, T_pts[T_pt]['x']],\n",
    "          [Q_pts[Q_pt]['y'] - Q_yshift, T_pts[T_pt]['y']],\n",
    "        linewidth = 3)\n",
    "\n",
    "# show best matched points\n",
    "plt.scatter( Q_pts[Q_pt]['x'] - Q_xshift, Q_pts[Q_pt]['y'] - Q_yshift, s=100)\n",
    "plt.scatter( T_pts[T_pt]['x'], T_pts[T_pt]['y'], s=100 ) \n",
    "\n",
    "# show similarity window\n",
    "Q_window = [Q_order_pts[p] for p in list(Q_order_pts.keys())[ max((mx_x-21),0):(mx_x)] ]\n",
    "plt.scatter( [Q_pts[p]['x'] - Q_xshift for p in Q_window],\n",
    "             [Q_pts[p]['y'] - Q_yshift for p in Q_window], c = 'white' )\n",
    "T_window = [T_order_pts[p] for p in list(T_order_pts.keys())[::-1][(mx_y-21):(mx_y)] ]\n",
    "plt.scatter( [T_pts[p]['x'] for p in T_window],\n",
    "             [T_pts[p]['y'] for p in T_window], c = 'black' )"
   ]
  },
  {
   "cell_type": "code",
   "execution_count": 285,
   "metadata": {},
   "outputs": [
    {
     "name": "stdout",
     "output_type": "stream",
     "text": [
      "2.9712669225006008 17.59264550017943 21.04503552000576 23.047595620757992 24.56904266253871 26.200315962236733 27.84874336486252 29.177847891576132 30.307536524947682 31.38053861697387 33.58181084949771\n",
      "25.324370753797208 5.366186016054396\n"
     ]
    },
    {
     "data": {
      "text/plain": [
       "(array([   36.,   132.,   676.,  1622.,  2299.,  3990.,  7347.,  7615.,\n",
       "        10213.,  7440.]),\n",
       " array([ 2.97126692,  6.03232132,  9.09337571, 12.1544301 , 15.21548449,\n",
       "        18.27653889, 21.33759328, 24.39864767, 27.45970206, 30.52075646,\n",
       "        33.58181085]),\n",
       " <a list of 10 Patch objects>)"
      ]
     },
     "execution_count": 285,
     "metadata": {},
     "output_type": "execute_result"
    },
    {
     "data": {
      "image/png": "[encoded data removed]",
      "text/plain": [
       "<Figure size 432x288 with 1 Axes>"
      ]
     },
     "metadata": {
      "needs_background": "light"
     },
     "output_type": "display_data"
    }
   ],
   "source": [
    "v = []\n",
    "for i in range(1,len(LCSuff)):\n",
    "    for j in range(1,len(LCSuff[i])):\n",
    "        v.append(LCSuff[i][j])\n",
    "        \n",
    "v.sort()\n",
    "\n",
    "l = len(v)\n",
    "print(min(v), v[int(l*.1)], v[int(l*.2)], v[int(l*.3)], v[int(l*.4)], v[int(l*.5)], \n",
    "              v[int(l*.6)], v[int(l*.7)], v[int(l*.8)], v[int(l*.9)], max(v))\n",
    "print(avg(v), sd(v))\n",
    "plt.hist(v)"
   ]
  },
  {
   "cell_type": "code",
   "execution_count": 296,
   "metadata": {},
   "outputs": [],
   "source": [
    "fout = open('CvsS_MaxDist_Euc30.csv', 'w')\n",
    "for r in LCSuff:\n",
    "    fout.write(','.join([ str(v) for v in r ]) + '\\n')\n",
    "fout.close()"
   ]
  },
  {
   "cell_type": "code",
   "execution_count": null,
   "metadata": {},
   "outputs": [],
   "source": []
  }
 ],
 "metadata": {
  "kernelspec": {
   "display_name": "Python 3",
   "language": "python",
   "name": "python3"
  },
  "language_info": {
   "codemirror_mode": {
    "name": "ipython",
    "version": 3
   },
   "file_extension": ".py",
   "mimetype": "text/x-python",
   "name": "python",
   "nbconvert_exporter": "python",
   "pygments_lexer": "ipython3",
   "version": "3.7.5"
  }
 },
 "nbformat": 4,
 "nbformat_minor": 2
}
