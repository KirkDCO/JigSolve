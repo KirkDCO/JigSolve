{
 "cells": [
  {
   "cell_type": "code",
   "execution_count": 1,
   "metadata": {},
   "outputs": [],
   "source": [
    "from Utilities import *\n",
    "from PuzzlePiece import *"
   ]
  },
  {
   "cell_type": "code",
   "execution_count": 2,
   "metadata": {},
   "outputs": [],
   "source": [
    "# gather all the pieces\n",
    "pieces = {}\n",
    "for p in ['C','N','NE','E','SE','S','SW','W','NW']:\n",
    "    pieces[p] = Piece('representations/' + p + '_border_ordered.csv')"
   ]
  },
  {
   "cell_type": "code",
   "execution_count": 3,
   "metadata": {},
   "outputs": [],
   "source": [
    "# get the first piece\n",
    "query = pieces.pop('C')"
   ]
  },
  {
   "cell_type": "code",
   "execution_count": null,
   "metadata": {},
   "outputs": [],
   "source": [
    "# find the closest match in the other pieces\n",
    "mx_score = 0\n",
    "mx_piece = ''\n",
    "\n",
    "for p in pieces:\n",
    "    # need an alignment object to store the results from these \n",
    "    target_rev = { i:pieces[p].sampled_pts[i]\n",
    "                   for i in list(pieces[p].sampled_pts.keys())[::-1] }\n",
    "    SuffTable, mx, mx_Q, mx_T, length = \\\n",
    "        AlignPieces_Euclid(query.sampled_pts, target_rev, window = 10)\n",
    "    \n",
    "    sims = []\n",
    "    for i in range(1,len(SuffTable)):\n",
    "        for j in range(1,len(SuffTable[i])):\n",
    "            sims.append(SuffTable[i][j])\n",
    "\n",
    "    sims.sort()\n",
    "    cutoff = sims[int(len(sims)*.1)]\n",
    "    \n",
    "    # could build the dynamic programming table here\n",
    "    SuffTable, mx, mx_Q, mx_T, length = \\\n",
    "        AlignPieces_Euclid(query.sampled_pts, target_rev,\n",
    "                           mode = 'SW align', window = 10, cutoff = cutoff,\n",
    "                           distr_score = True, avg = avg(sims), sd = sd(sims))\n",
    "    \n",
    "    print(p, mx, mx_Q, mx_T, length, mx/length)\n",
    "    if mx > mx_score:\n",
    "        mx_score = mx\n",
    "        mx_piece = p\n",
    "        \n",
    "print('Best: ', mx_piece, mx_score, length)"
   ]
  },
  {
   "cell_type": "code",
   "execution_count": 4,
   "metadata": {},
   "outputs": [
    {
     "name": "stdout",
     "output_type": "stream",
     "text": [
      "E 169.28319139950804 188 196 57 2.969880550868562\n"
     ]
    }
   ],
   "source": [
    "# TODO: access the alignment object instead of reacalculating\n",
    "mx_piece_rev = { i:pieces[mx_piece].sampled_pts[i]\n",
    "                    for i in list(pieces[mx_piece].sampled_pts.keys())[::-1] }\n",
    "SuffTable, mx, mx_q, mx_t, length = \\\n",
    "        AlignPieces_Euclid(query.sampled_pts, mx_piece_rev, window = 10)\n",
    "\n",
    "sims = []\n",
    "for i in range(1,len(SuffTable)):\n",
    "    for j in range(1,len(SuffTable[i])):\n",
    "        sims.append(SuffTable[i][j])\n",
    "\n",
    "sims.sort()\n",
    "cutoff = sims[int(len(sims)*.1)]\n",
    "    \n",
    "SuffTable, mx, mx_q, mx_t, length = \\\n",
    "        AlignPieces_Euclid(query.sampled_pts, mx_piece_rev,\n",
    "                           mode = 'SW align', window = 10, cutoff = cutoff,\n",
    "                           distr_score = True, avg = avg(sims), sd = sd(sims))\n",
    "\n",
    "print(mx_piece, mx, mx_q, mx_t, length, mx/length)\n",
    "#target = pieces.pop(mx_piece)\n",
    "target = pieces[mx_piece]"
   ]
  },
  {
   "cell_type": "code",
   "execution_count": 5,
   "metadata": {},
   "outputs": [
    {
     "data": {
      "text/plain": [
       "<matplotlib.collections.PathCollection at 0x7efee5346750>"
      ]
     },
     "execution_count": 5,
     "metadata": {},
     "output_type": "execute_result"
    },
    {
     "data": {
      "image/png": "[encoded data removed]",
      "text/plain": [
       "<Figure size 720x720 with 1 Axes>"
      ]
     },
     "metadata": {
      "needs_background": "light"
     },
     "output_type": "display_data"
    }
   ],
   "source": [
    "#find the best matched point - this is the end of the best match window\n",
    "Q_pt = query.sampled_pts[list(query.sampled_pts.keys())[mx_q-1]]\n",
    "T_pt = target.sampled_pts[list(target.sampled_pts.keys())[::-1][mx_t-1]] \n",
    "\n",
    "# find x,y shift to align pieces\n",
    "Q_xshift = Q_pt['x'] - T_pt['x']\n",
    "Q_yshift = Q_pt['y'] - T_pt['y'] \n",
    "\n",
    "plt.figure(figsize = [10,10])\n",
    "plt.scatter( [query.sampled_pts[k]['x'] - Q_xshift for k,v in query.sampled_pts.items() ],\n",
    "             [query.sampled_pts[k]['y'] - Q_yshift for k,v in query.sampled_pts.items() ])\n",
    "plt.scatter( [target.sampled_pts[k]['x'] for k,v in target.sampled_pts.items() ],\n",
    "             [target.sampled_pts[k]['y'] for k,v in target.sampled_pts.items() ])\n",
    "\n",
    "plt.plot( [Q_pt['x'] - Q_xshift, T_pt['x']],\n",
    "          [Q_pt['y'] - Q_yshift, T_pt['y']],\n",
    "        linewidth = 3)\n",
    "\n",
    "# show best matched points - second will overplot first due to alignment\n",
    "plt.scatter( Q_pt['x'] - Q_xshift, Q_pt['y'] - Q_yshift, s=400)\n",
    "plt.scatter( T_pt['x'], T_pt['y'], s=196 ) \n",
    "\n",
    "# show similarity window\n",
    "# the black and white points repsent the points in the positive scoring diagonal\n",
    "# of the suffix table starting at the maximum scoring point\n",
    "# these points are the best locally aligned points\n",
    "Q_window = [query.sampled_pts[p] for p in list(query.sampled_pts.keys())[ max((mx_q-length),0):(mx_q)] ]\n",
    "plt.scatter( [p['x'] - Q_xshift for p in Q_window],\n",
    "             [p['y'] - Q_yshift for p in Q_window], c = 'grey' )\n",
    "T_window = [target.sampled_pts[p] for p in list(target.sampled_pts.keys())[::-1][(mx_t-length):(mx_t)] ]\n",
    "plt.scatter( [p['x'] for p in T_window],\n",
    "             [p['y'] for p in T_window], c = 'black' )"
   ]
  },
  {
   "cell_type": "code",
   "execution_count": null,
   "metadata": {},
   "outputs": [],
   "source": []
  },
  {
   "cell_type": "code",
   "execution_count": null,
   "metadata": {},
   "outputs": [],
   "source": []
  }
 ],
 "metadata": {
  "kernelspec": {
   "display_name": "Python 3",
   "language": "python",
   "name": "python3"
  },
  "language_info": {
   "codemirror_mode": {
    "name": "ipython",
    "version": 3
   },
   "file_extension": ".py",
   "mimetype": "text/x-python",
   "name": "python",
   "nbconvert_exporter": "python",
   "pygments_lexer": "ipython3",
   "version": "3.7.5"
  }
 },
 "nbformat": 4,
 "nbformat_minor": 2
}
