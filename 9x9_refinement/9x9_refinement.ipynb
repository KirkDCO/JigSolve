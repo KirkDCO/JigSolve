{
 "cells": [
  {
   "cell_type": "code",
   "execution_count": 3,
   "metadata": {},
   "outputs": [],
   "source": [
    "from Utilities import *\n",
    "from PuzzlePiece import *"
   ]
  },
  {
   "cell_type": "code",
   "execution_count": 4,
   "metadata": {},
   "outputs": [],
   "source": [
    "# gather all the pieces\n",
    "pieces = {}\n",
    "for p in ['C','N','NE','E','SE','S','SW','W','NW']:\n",
    "    pieces[p] = Piece('representations/' + p + '_border_ordered.csv')"
   ]
  },
  {
   "cell_type": "code",
   "execution_count": 5,
   "metadata": {},
   "outputs": [],
   "source": [
    "# get the first piece\n",
    "query = pieces.pop('C')"
   ]
  },
  {
   "cell_type": "code",
   "execution_count": 8,
   "metadata": {},
   "outputs": [
    {
     "name": "stdout",
     "output_type": "stream",
     "text": [
      "N 4.69041575982343\n",
      "N 88\n",
      "NE 7.542245505072464\n",
      "NE 26\n",
      "E 6.24964657564981\n",
      "E 77\n",
      "SE 4.385894205005382\n",
      "SE 90\n",
      "S 6.082762530298219\n",
      "S 39\n",
      "SW 5.825711306448937\n",
      "SW 61\n",
      "W 7.123429878844059\n",
      "W 42\n",
      "NW 4.898979485566356\n",
      "NW 55\n",
      "Best:  SE 90\n"
     ]
    }
   ],
   "source": [
    "# find the closest match in the other pieces\n",
    "mx_score = 0\n",
    "mx_piece = ''\n",
    "\n",
    "for p in pieces:\n",
    "    # need an alignment object to store the results from these \n",
    "    SuffTable, mx, mx_Q, mx_T, length = \\\n",
    "        AlignPieces_Euclid(query.sampled_pts, pieces[p].sampled_pts, window = 10)\n",
    "    \n",
    "    sims = []\n",
    "    for i in range(1,len(SuffTable)):\n",
    "        for j in range(1,len(SuffTable[i])):\n",
    "            sims.append(SuffTable[i][j])\n",
    "\n",
    "    sims.sort()\n",
    "    cutoff = sims[int(len(sims)*.1)]\n",
    "    \n",
    "    print(p, min(sims))\n",
    "    \n",
    "    # could build the dynamic programming table here\n",
    "    SuffTable, mx, mx_Q, mx_T, length = \\\n",
    "        AlignPieces_Euclid(query.sampled_pts, pieces[p].sampled_pts,\n",
    "                           mode = 'SW align', window = 10, cutoff = cutoff)\n",
    "    \n",
    "    print(p, mx)\n",
    "    if mx > mx_score:\n",
    "        mx_score = mx\n",
    "        mx_piece = p\n",
    "        \n",
    "print('Best: ', mx_piece, mx_score)"
   ]
  },
  {
   "cell_type": "code",
   "execution_count": null,
   "metadata": {},
   "outputs": [],
   "source": [
    "# access the alignment object instead of reacalculating\n",
    "SuffTable, mx, mx_q, mx_t, length = \\\n",
    "        AlignPieces_Euclid(query.sampled_pts, pieces[mx_piece].sampled_pts, window = 10)\n",
    "\n",
    "sims = []\n",
    "for i in range(1,len(SuffTable)):\n",
    "    for j in range(1,len(SuffTable[i])):\n",
    "        sims.append(SuffTable[i][j])\n",
    "\n",
    "sims.sort()\n",
    "cutoff = sims[int(len(sims)*.1)]\n",
    "    \n",
    "SuffTable, mx, mx_q, mx_t, length = \\\n",
    "        AlignPieces_Euclid(query.sampled_pts, pieces[mx_piece].sampled_pts,\n",
    "                           mode = 'SW align', window = 10, cutoff = cutoff)\n",
    "\n",
    "print(mx_piece, mx)\n",
    "target = pieces.pop(mx_piece)"
   ]
  },
  {
   "cell_type": "code",
   "execution_count": null,
   "metadata": {},
   "outputs": [],
   "source": [
    "#find the best matched point - this is the end of the best match window\n",
    "Q_pt = query.sampled_pts[list(query.sampled_pts.keys())[mx_q-1]]\n",
    "T_pt = target.sampled_pts[list(target.sampled_pts.keys())[::-1][mx_t-1]] \n",
    "\n",
    "# find x,y shift to align pieces\n",
    "Q_xshift = query.sampled_pts[Q_pt]['x'] - target.sampled_pts[T_pt]['x']\n",
    "Q_yshift = query.sampled_pts[Q_pt]['y'] - target.sampled_pts[T_pt]['y'] \n",
    "\n",
    "plt.figure(figsize = [10,10])\n",
    "plt.scatter( [query.sampled_pts.sampled_pts[k]['x'] - Q_xshift for k,v in query.sampled_pts.items() ],\n",
    "             [Q_pts[k]['y'] - Q_yshift for k,v in query.sampled_pts.items() ])\n",
    "plt.scatter( [T_pts[k]['x'] for k,v in target.sampled_pts.items() ],\n",
    "             [T_pts[k]['y'] for k,v in target.sampled_pts.items() ])\n",
    "\n",
    "plt.plot( [query.sampled_pts[Q_pt]['x'] - Q_xshift, target.sampled_pts[T_pt]['x']],\n",
    "          [query.sampled_pts[Q_pt]['y'] - Q_yshift, target.sampled_pts[T_pt]['y']],\n",
    "        linewidth = 3)\n",
    "\n",
    "# show best matched points - second will overplot first due to alignment\n",
    "plt.scatter( query.sampled_pts[Q_pt]['x'] - Q_xshift, query.sampled_pts[Q_pt]['y'] - Q_yshift, s=225)\n",
    "plt.scatter( target.sampled_pts[T_pt]['x'], target.sampled_pts[T_pt]['y'], s=196 ) \n",
    "\n",
    "# show similarity window\n",
    "# the black and white points repsent the points in the positive scoring diagonal\n",
    "# of the suffix table starting at the maximum scoring point\n",
    "# these points are the best locally aligned points\n",
    "# Q_window = [Q_order_pts[p] for p in list(Q_order_pts.keys())[ max((mx_q-length),0):(mx_q)] ]\n",
    "# plt.scatter( [Q_pts[p]['x'] - Q_xshift for p in Q_window],\n",
    "#              [Q_pts[p]['y'] - Q_yshift for p in Q_window], c = 'white' )\n",
    "# T_window = [T_order_pts[p] for p in list(T_order_pts.keys())[::-1][(mx_t-length):(mx_t)] ]\n",
    "# plt.scatter( [T_pts[p]['x'] for p in T_window],\n",
    "#              [T_pts[p]['y'] for p in T_window], c = 'black' )"
   ]
  },
  {
   "cell_type": "code",
   "execution_count": 26,
   "metadata": {},
   "outputs": [
    {
     "name": "stdout",
     "output_type": "stream",
     "text": [
      "{'orig_idx': 1045, 'x': 7, 'y': 144}\n"
     ]
    }
   ],
   "source": [
    "print(Q_pt)"
   ]
  }
 ],
 "metadata": {
  "kernelspec": {
   "display_name": "Python 3",
   "language": "python",
   "name": "python3"
  },
  "language_info": {
   "codemirror_mode": {
    "name": "ipython",
    "version": 3
   },
   "file_extension": ".py",
   "mimetype": "text/x-python",
   "name": "python",
   "nbconvert_exporter": "python",
   "pygments_lexer": "ipython3",
   "version": "3.7.5"
  }
 },
 "nbformat": 4,
 "nbformat_minor": 2
}
