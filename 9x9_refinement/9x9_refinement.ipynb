{
 "cells": [
  {
   "cell_type": "code",
   "execution_count": 1,
   "metadata": {},
   "outputs": [],
   "source": [
    "import copy\n",
    "\n",
    "from Utilities import *\n",
    "from PuzzlePiece import *"
   ]
  },
  {
   "cell_type": "code",
   "execution_count": 2,
   "metadata": {},
   "outputs": [],
   "source": [
    "# gather all the pieces\n",
    "target_pieces = {}\n",
    "tried_pieces = {}\n",
    "\n",
    "for p in ['C','N','NE','E','SE','S','SW','W','NW']:\n",
    "    target_pieces[p] = Piece('representations/' + p + '_border_ordered.csv')"
   ]
  },
  {
   "cell_type": "code",
   "execution_count": 3,
   "metadata": {},
   "outputs": [],
   "source": [
    "# get the first piece\n",
    "query = target_pieces.pop('C') # this piece will grow \n",
    "tried_pieces['C'] = copy.deepcopy(query) # keep a copy in case we need to go back "
   ]
  },
  {
   "cell_type": "code",
   "execution_count": 4,
   "metadata": {},
   "outputs": [
    {
     "name": "stdout",
     "output_type": "stream",
     "text": [
      "N 45 181 165 44 1.0227272727272727\n",
      "NE 42 124 187 41 1.024390243902439\n",
      "E 44 181 189 43 1.0232558139534884\n",
      "SE 12 148 155 11 1.0909090909090908\n",
      "S 35 69 71 34 1.0294117647058822\n",
      "SW 15 52 45 14 1.0714285714285714\n",
      "W 22 22 98 20 1.1\n",
      "NW 23 23 83 21 1.0952380952380953\n",
      "Best:  N 45 21\n"
     ]
    }
   ],
   "source": [
    "# find the closest match in the other pieces\n",
    "mx_score = 0\n",
    "mx_piece = ''\n",
    "\n",
    "alignments = {}\n",
    "for p in target_pieces:\n",
    "    # need an alignment object to store the results from these \n",
    "    target_rev = { i:target_pieces[p].sampled_pts[i]\n",
    "                   for i in list(target_pieces[p].sampled_pts.keys())[::-1] }\n",
    "    SuffTable, mx, mx_Q, mx_T, length = \\\n",
    "        AlignPieces_Euclid(query.sampled_pts, target_rev, window = 10)\n",
    "    \n",
    "    sims = []\n",
    "    for i in range(1,len(SuffTable)):\n",
    "        for j in range(1,len(SuffTable[i])):\n",
    "            sims.append(SuffTable[i][j])\n",
    "\n",
    "    sims.sort()\n",
    "    cutoff = sims[int(len(sims)*.01)]\n",
    "    \n",
    "    # could build the dynamic programming table here\n",
    "    SuffTable, mx, mx_Q, mx_T, length = \\\n",
    "        AlignPieces_Euclid(query.sampled_pts, target_rev,\n",
    "                           mode = 'SW align', window = 10, cutoff = cutoff,\n",
    "                           distr_score = False, avg = avg(sims), sd = sd(sims))\n",
    "    \n",
    "    print(p, mx, mx_Q, mx_T, length, mx/length)\n",
    "    alignments[p] = { 'SuffTable': SuffTable,\n",
    "                      'mx_score': mx,\n",
    "                      'mx_Q': mx_Q,\n",
    "                      'mx_T': mx_T,\n",
    "                      'length': length,\n",
    "                      'cutoff': cutoff}\n",
    "    \n",
    "    if mx > mx_score:\n",
    "        mx_score = mx\n",
    "        mx_piece = p\n",
    "        \n",
    "print('Best: ', mx_piece, mx_score, length)"
   ]
  },
  {
   "cell_type": "code",
   "execution_count": 5,
   "metadata": {},
   "outputs": [
    {
     "name": "stdout",
     "output_type": "stream",
     "text": [
      "N 45 181 165 44 1.0227272727272727\n"
     ]
    }
   ],
   "source": [
    "mx_piece_rev = { i:target_pieces[mx_piece].sampled_pts[i]\n",
    "                    for i in list(target_pieces[mx_piece].sampled_pts.keys())[::-1] }\n",
    "\n",
    "mx_alignment = alignments[mx_piece]\n",
    "SuffTable = mx_alignment['SuffTable']\n",
    "mx = mx_alignment['mx_score']\n",
    "mx_Q = mx_alignment['mx_Q']\n",
    "mx_T = mx_alignment['mx_T']\n",
    "length = mx_alignment['length']\n",
    "cutoff = mx_alignment['cutoff']\n",
    "\n",
    "print(mx_piece, mx, mx_Q, mx_T, length, mx/length)\n",
    "target = target_pieces.pop(mx_piece)"
   ]
  },
  {
   "cell_type": "code",
   "execution_count": 6,
   "metadata": {},
   "outputs": [
    {
     "data": {
      "text/plain": [
       "<matplotlib.collections.PathCollection at 0x7f4ec73a5150>"
      ]
     },
     "execution_count": 6,
     "metadata": {},
     "output_type": "execute_result"
    },
    {
     "data": {
      "image/png": "[encoded data removed]",
      "text/plain": [
       "<Figure size 720x720 with 1 Axes>"
      ]
     },
     "metadata": {
      "needs_background": "light"
     },
     "output_type": "display_data"
    }
   ],
   "source": [
    "#find the best matched point - this is the end of the best match window\n",
    "Q_pt = query.sampled_pts[list(query.sampled_pts.keys())[mx_Q-1]]\n",
    "T_pt = target.sampled_pts[list(target.sampled_pts.keys())[::-1][mx_T-1]] \n",
    "\n",
    "# find x,y shift to align pieces\n",
    "T_xshift = T_pt['x'] - Q_pt['x']\n",
    "T_yshift = T_pt['y'] - Q_pt['y'] \n",
    "\n",
    "plt.figure(figsize = [10,10])\n",
    "plt.scatter( [query.sampled_pts[k]['x'] for k,v in query.sampled_pts.items() ],\n",
    "             [query.sampled_pts[k]['y'] for k,v in query.sampled_pts.items() ])\n",
    "plt.scatter( [target.sampled_pts[k]['x'] - T_xshift for k,v in target.sampled_pts.items() ],\n",
    "             [target.sampled_pts[k]['y'] - T_yshift for k,v in target.sampled_pts.items() ])\n",
    "\n",
    "plt.plot( [Q_pt['x'], T_pt['x'] - T_xshift],\n",
    "          [Q_pt['y'], T_pt['y'] - T_yshift],\n",
    "        linewidth = 3)\n",
    "\n",
    "# show best matched points - second will overplot first due to alignment\n",
    "plt.scatter( Q_pt['x'], Q_pt['y'], s=400)\n",
    "plt.scatter( T_pt['x'] - T_xshift, T_pt['y'] - T_yshift, s=196 ) \n",
    "\n",
    "# show similarity window\n",
    "# the black and white points repsent the points in the positive scoring diagonal\n",
    "# of the suffix table starting at the maximum scoring point\n",
    "# these points are the best locally aligned points\n",
    "Q_window = [query.sampled_pts[p] for p in list(query.sampled_pts.keys())[ max((mx_Q-length),0):(mx_Q)] ]\n",
    "plt.scatter( [p['x'] for p in Q_window],\n",
    "             [p['y'] for p in Q_window], c = 'grey' )\n",
    "T_window = [target.sampled_pts[p] for p in list(target.sampled_pts.keys())[::-1][(mx_T-length):(mx_T)] ]\n",
    "plt.scatter( [p['x'] - T_xshift for p in T_window],\n",
    "             [p['y'] - T_yshift for p in T_window], c = 'black' )"
   ]
  },
  {
   "cell_type": "code",
   "execution_count": 7,
   "metadata": {},
   "outputs": [
    {
     "name": "stdout",
     "output_type": "stream",
     "text": [
      "<PuzzlePiece.Piece object at 0x7f4ec84b30d0>\n"
     ]
    }
   ],
   "source": [
    "# combine the pieces into one piece\n",
    "\n",
    "# compute fine alignment over the aligned window\n",
    "# for all original points in target shifted by fine alignment:\n",
    "    # add to query with OR function for collisions"
   ]
  },
  {
   "cell_type": "code",
   "execution_count": null,
   "metadata": {},
   "outputs": [],
   "source": [
    "# compute new boundary\n",
    "    # floodfill"
   ]
  },
  {
   "cell_type": "code",
   "execution_count": null,
   "metadata": {},
   "outputs": [],
   "source": [
    "# resample boundary"
   ]
  },
  {
   "cell_type": "code",
   "execution_count": null,
   "metadata": {},
   "outputs": [],
   "source": [
    "# put boundary points in order"
   ]
  },
  {
   "cell_type": "code",
   "execution_count": null,
   "metadata": {},
   "outputs": [],
   "source": [
    "# set new combined piece to query and do next alignment"
   ]
  }
 ],
 "metadata": {
  "kernelspec": {
   "display_name": "Python 3",
   "language": "python",
   "name": "python3"
  },
  "language_info": {
   "codemirror_mode": {
    "name": "ipython",
    "version": 3
   },
   "file_extension": ".py",
   "mimetype": "text/x-python",
   "name": "python",
   "nbconvert_exporter": "python",
   "pygments_lexer": "ipython3",
   "version": "3.7.5"
  }
 },
 "nbformat": 4,
 "nbformat_minor": 2
}
