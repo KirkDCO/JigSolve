{
 "cells": [
  {
   "cell_type": "code",
   "execution_count": 77,
   "metadata": {},
   "outputs": [],
   "source": [
    "from math import *\n",
    "import matplotlib.pyplot as plt"
   ]
  },
  {
   "cell_type": "code",
   "execution_count": 78,
   "metadata": {},
   "outputs": [],
   "source": [
    "def EucDist(X, Y):\n",
    "    # X and Y are lists with coordinates of points in arbitrary dimensions\n",
    "    return sqrt(sum([ (x-y)**2 for x,y in zip(X,Y) ]))"
   ]
  },
  {
   "cell_type": "code",
   "execution_count": 79,
   "metadata": {},
   "outputs": [],
   "source": [
    "def sd(data):\n",
    "    n = len(data)\n",
    "\n",
    "    if n <= 1:\n",
    "        return 0.0\n",
    "\n",
    "    mean, sd = avg(data), 0.0\n",
    "\n",
    "    # calculate stan. dev.\n",
    "    for el in data:\n",
    "        sd += (float(el) - mean)**2\n",
    "    sd = sqrt(sd / float(n-1))\n",
    "\n",
    "    return sd\n",
    "\n",
    "def avg(ls):\n",
    "    n, mean = len(ls), 0.0\n",
    "\n",
    "    if n <= 1:\n",
    "        return ls[0]\n",
    "\n",
    "    # calculate average\n",
    "    for el in ls:\n",
    "        mean = mean + float(el)\n",
    "    mean = mean / float(n)\n",
    "\n",
    "    return mean\n"
   ]
  },
  {
   "cell_type": "code",
   "execution_count": 80,
   "metadata": {},
   "outputs": [],
   "source": [
    "def GetAlignedWindows(M, N, m_pt, n_pt, window):\n",
    "    \n",
    "    # for the given point in each set of points\n",
    "    # extract the window of interest\n",
    "    # align the sequence of points\n",
    "    # calculate and return the distance between aligned windows\n",
    "    \n",
    "    # get the window of points for M\n",
    "    M_pts = [ m_pt + v for v in range(-window,window+1)]\n",
    "    for i,v in enumerate(M_pts):\n",
    "        if v < 0:\n",
    "            M_pts[i] += len(M)\n",
    "        elif v >= len(M):\n",
    "            M_pts[i] -= len(M)\n",
    "    \n",
    "    M_window = { pt:{'x':M[list(M.keys())[pt]]['x'],\n",
    "                     'y':M[list(M.keys())[pt]]['y']} for pt in M_pts }\n",
    "\n",
    "    # find the shift needed to align the given points\n",
    "    # 2-dimensional for now\n",
    "    x_shift = M[list(M.keys())[m_pt]]['x'] - N[list(N.keys())[n_pt]]['x']\n",
    "    y_shift = M[list(M.keys())[m_pt]]['y'] - N[list(N.keys())[n_pt]]['y']\n",
    "    \n",
    "    # get window of points for N and apply shift\n",
    "    N_pts = [ n_pt + v for v in range(-window,window+1)]\n",
    "    for i,v in enumerate(N_pts):\n",
    "        if v < 0:\n",
    "            N_pts[i] += len(N)\n",
    "        elif v >= len(N):\n",
    "            N_pts[i] -= len(N)\n",
    "    \n",
    "    N_window = { pt:{'x':N[list(N.keys())[pt]]['x'] + x_shift,\n",
    "                     'y':N[list(N.keys())[pt]]['y'] + y_shift} for pt in N_pts} \n",
    "\n",
    "    return M_window, N_window\n",
    "    "
   ]
  },
  {
   "cell_type": "code",
   "execution_count": 81,
   "metadata": {},
   "outputs": [],
   "source": [
    "def AlignScore(M, N, m_pt, n_pt, window):\n",
    "    \n",
    "    # get the aligned windows\n",
    "    M_window, N_window = GetAlignedWindows(M, N, m_pt, n_pt, window)\n",
    "    \n",
    "    # compute similarity score \n",
    "    # similarity in this case is the sum of Euclidean distances \n",
    "    # between matched points\n",
    "    sum = 0.0\n",
    "    for M_pt, N_pt in zip(M_window.keys(), N_window.keys()):\n",
    "        sum += EucDist( [ M_window[M_pt]['x'], M_window[M_pt]['y'] ],\n",
    "                        [ N_window[N_pt]['x'], N_window[N_pt]['y'] ])\n",
    "    return sqrt(sum)"
   ]
  },
  {
   "cell_type": "code",
   "execution_count": 82,
   "metadata": {},
   "outputs": [],
   "source": [
    "def AlignPieces_Euclid(M, N, mode = 'max distance', window=10, \n",
    "             cutoff = 100, distr_score = False, avg = 25, sd = 5): \n",
    "      \n",
    "    \n",
    "    # places to store maximum score and which position\n",
    "    mx = 0.0\n",
    "    mx_M = 0\n",
    "    mx_N = 0\n",
    "    \n",
    "    # Create suffix table\n",
    "    SuffTable = [[0 for k in range(len(N)+1)] for l in range(len(M)+1)] \n",
    "      \n",
    "    # Build suffix table\n",
    "    for i in range(len(M) + 1): \n",
    "        for j in range(len(N) + 1): \n",
    "            if (i == 0 or j == 0): \n",
    "                SuffTable[i][j] = 0\n",
    "            else:\n",
    "                d = AlignScore(M, N, i-1, j-1, window)\n",
    "                if mode == 'max distance': #return actual distances - used to establish cutoff\n",
    "                    SuffTable[i][j] = d\n",
    "                elif mode == 'min distance': #return actual distances - used to establish cutoff\n",
    "                    SuffTable[i][j] = 1/d\n",
    "                elif mode == 'NW_align': # Needleman-Wunsch - global alignment\n",
    "                    if d < cutoff: \n",
    "                        SuffTable[i][j] = SuffTable[i-1][j-1] + 1\n",
    "                    else: #ignore distances above cutoff\n",
    "                        SuffTable[i][j] = SuffTable[i-1][j-1] - 1\n",
    "                elif mode == 'SW align': #Smith-Waterman - local alignment\n",
    "                    if distr_score:\n",
    "                        qtile = (d-avg)/sd\n",
    "                        SuffTable[i][j] = SuffTable[i-1][j-1] - qtile\n",
    "                    else:\n",
    "                        if d < cutoff: # small distance improve our score\n",
    "                            SuffTable[i][j] = SuffTable[i-1][j-1] + 1\n",
    "                        else: #large distances degrade our score\n",
    "                            SuffTable[i][j] = SuffTable[i-1][j-1] - 1\n",
    "                    SuffTable[i][j] = max(0,SuffTable[i][j])\n",
    "\n",
    "                if SuffTable[i][j] > mx:\n",
    "                    mx = SuffTable[i][j]\n",
    "                    mx_M = i\n",
    "                    mx_N = j\n",
    "    \n",
    "    # determine the length of the best scoring window\n",
    "    for length in range( 1, min(mx_M,mx_N) ):\n",
    "        if SuffTable[mx_M-length][mx_N-length] == 0:\n",
    "            break\n",
    "\n",
    "    return SuffTable, mx, mx_M, mx_N, length-1"
   ]
  },
  {
   "cell_type": "code",
   "execution_count": 83,
   "metadata": {},
   "outputs": [],
   "source": [
    "# Load pieces\n",
    "C_order_pts = {}\n",
    "C_dists = []\n",
    "fin = open('C_dists.csv', 'r')\n",
    "for i,l in enumerate(fin):\n",
    "    tok = l.rstrip().split(',')\n",
    "    C_order_pts[i] = int(tok[0])-1 # inferring order from distance list - adjust for base 0\n",
    "    C_dists.append( [float(v) for v in tok[1:]] )\n",
    "fin.close()\n",
    "\n",
    "N_order_pts = {}\n",
    "N_dists = []\n",
    "fin = open('N_dists.csv', 'r')\n",
    "for i,l in enumerate(fin):\n",
    "    tok = l.rstrip().split(',')\n",
    "    N_order_pts[i] = int(tok[0])-1 # inferring order from distance list - adjust for base 0\n",
    "    N_dists.append( [float(v) for v in tok[1:]] )\n",
    "fin.close()\n",
    "\n",
    "NW_order_pts = {}\n",
    "NW_dists = []\n",
    "fin = open('NW_dists.csv', 'r')\n",
    "for i,l in enumerate(fin):\n",
    "    tok = l.rstrip().split(',')\n",
    "    NW_order_pts[i] = int(tok[0])-1 # inferring order from distance list - adjust for base 0\n",
    "    NW_dists.append( [float(v) for v in tok[1:]] )\n",
    "fin.close()\n",
    "\n",
    "S_order_pts = {}\n",
    "S_dists = []\n",
    "fin = open('S_dists.csv', 'r')\n",
    "for i,l in enumerate(fin):\n",
    "    tok = l.rstrip().split(',')\n",
    "    S_order_pts[i] = int(tok[0])-1 # inferring order from distance list - adjust for base 0\n",
    "    S_dists.append( [float(v) for v in tok[1:]] )\n",
    "fin.close()\n",
    "\n",
    "SW_order_pts = {}\n",
    "SW_dists = []\n",
    "fin = open('SW_dists.csv', 'r')\n",
    "for i,l in enumerate(fin):\n",
    "    tok = l.rstrip().split(',')\n",
    "    SW_order_pts[i] = int(tok[0])-1 # inferring order from distance list - adjust for base 0\n",
    "    SW_dists.append( [float(v) for v in tok[1:]] )\n",
    "fin.close()\n",
    "\n",
    "W_order_pts = {}\n",
    "W_dists = []\n",
    "fin = open('W_dists.csv', 'r')\n",
    "for i,l in enumerate(fin):\n",
    "    tok = l.rstrip().split(',')\n",
    "    W_order_pts[i] = int(tok[0])-1 # inferring order from distance list - adjust for base 0\n",
    "    W_dists.append( [float(v) for v in tok[1:]] )\n",
    "fin.close()\n",
    "\n",
    "C_pts = {}\n",
    "fin = open('C_border_ordered.csv')\n",
    "h = fin.readline()\n",
    "for i,l in enumerate(fin):\n",
    "    tok = l.rstrip().split(',')\n",
    "    C_pts[i] = {}\n",
    "    C_pts[i]['x'] = int(tok[0])\n",
    "    C_pts[i]['y'] = int(tok[1])\n",
    "fin.close()\n",
    "\n",
    "N_pts = {}\n",
    "fin = open('N_border_ordered.csv')\n",
    "h = fin.readline()\n",
    "for i,l in enumerate(fin):\n",
    "    tok = l.rstrip().split(',')\n",
    "    N_pts[i] = {}\n",
    "    N_pts[i]['x'] = int(tok[0])\n",
    "    N_pts[i]['y'] = int(tok[1])\n",
    "fin.close()\n",
    "\n",
    "NW_pts = {}\n",
    "fin = open('NW_border_ordered.csv')\n",
    "h = fin.readline()\n",
    "for i,l in enumerate(fin):\n",
    "    tok = l.rstrip().split(',')\n",
    "    NW_pts[i] = {}\n",
    "    NW_pts[i]['x'] = int(tok[0])\n",
    "    NW_pts[i]['y'] = int(tok[1])\n",
    "fin.close()\n",
    "\n",
    "S_pts = {}\n",
    "fin = open('S_border_ordered.csv')\n",
    "h = fin.readline()\n",
    "for i,l in enumerate(fin):\n",
    "    tok = l.rstrip().split(',')\n",
    "    S_pts[i] = {}\n",
    "    S_pts[i]['x'] = int(tok[0])\n",
    "    S_pts[i]['y'] = int(tok[1])\n",
    "fin.close()\n",
    "\n",
    "SW_pts = {}\n",
    "fin = open('SW_border_ordered.csv')\n",
    "h = fin.readline()\n",
    "for i,l in enumerate(fin):\n",
    "    tok = l.rstrip().split(',')\n",
    "    SW_pts[i] = {}\n",
    "    SW_pts[i]['x'] = int(tok[0])\n",
    "    SW_pts[i]['y'] = int(tok[1])\n",
    "fin.close()\n",
    "\n",
    "W_pts = {}\n",
    "fin = open('W_border_ordered.csv')\n",
    "h = fin.readline()\n",
    "for i,l in enumerate(fin):\n",
    "    tok = l.rstrip().split(',')\n",
    "    W_pts[i] = {}\n",
    "    W_pts[i]['x'] = int(tok[0])\n",
    "    W_pts[i]['y'] = int(tok[1])\n",
    "fin.close()"
   ]
  },
  {
   "cell_type": "code",
   "execution_count": 101,
   "metadata": {
    "scrolled": false
   },
   "outputs": [
    {
     "name": "stdout",
     "output_type": "stream",
     "text": [
      "221.59733083229835 188 172 146\n"
     ]
    },
    {
     "data": {
      "text/plain": [
       "<matplotlib.collections.PathCollection at 0x7f0ae062e910>"
      ]
     },
     "execution_count": 101,
     "metadata": {},
     "output_type": "execute_result"
    },
    {
     "data": {
      "image/png": "[encoded data removed]",
      "text/plain": [
       "<Figure size 720x720 with 1 Axes>"
      ]
     },
     "metadata": {
      "needs_background": "light"
     },
     "output_type": "display_data"
    }
   ],
   "source": [
    "%matplotlib inline\n",
    "\n",
    "#query piece\n",
    "Q_pts = C_pts\n",
    "Q_order_pts = C_order_pts\n",
    "Q_sample = { pt:Q_pts[pt] for i,pt in Q_order_pts.items() }\n",
    "\n",
    "#target piece - reverse order of sample\n",
    "T_pts = N_pts\n",
    "T_order_pts = N_order_pts\n",
    "T_sample = { i:T_pts[T_order_pts[i]] for i in list(T_order_pts.keys())[::-1] }\n",
    "\n",
    "# avg and sd are derived from SuffTable from a run of 'mode = 'max distance' \n",
    "SuffTable, mx, mx_q, mx_t, length = AlignPieces_Euclid(Q_sample, T_sample, \n",
    "                                              mode = 'SW align', window = 10, cutoff = 17.4,\n",
    "                                              distr_score = True, avg = 25, sd = 5)\n",
    "print(mx, mx_q, mx_t, length)\n",
    "\n",
    "#find the best matched point - this is the end of the best match window\n",
    "Q_pt = Q_order_pts[list(Q_order_pts.keys())[mx_q-1]]\n",
    "T_pt = T_order_pts[list(T_order_pts.keys())[::-1][mx_t-1]] \n",
    "\n",
    "# find x,y shift to align pieces\n",
    "Q_xshift = Q_pts[Q_pt]['x'] - T_pts[T_pt]['x']\n",
    "Q_yshift = Q_pts[Q_pt]['y'] - T_pts[T_pt]['y'] \n",
    "\n",
    "plt.figure(figsize = [10,10])\n",
    "plt.scatter( [Q_pts[k]['x'] - Q_xshift for k,v in Q_pts.items() ],\n",
    "             [Q_pts[k]['y'] - Q_yshift for k,v in Q_pts.items() ])\n",
    "plt.scatter( [T_pts[k]['x'] for k,v in T_pts.items() ],\n",
    "             [T_pts[k]['y'] for k,v in T_pts.items() ])\n",
    "\n",
    "plt.plot( [Q_pts[Q_pt]['x'] - Q_xshift, T_pts[T_pt]['x']],\n",
    "          [Q_pts[Q_pt]['y'] - Q_yshift, T_pts[T_pt]['y']],\n",
    "        linewidth = 3)\n",
    "\n",
    "# show best matched points - second will overplot first due to alignment\n",
    "plt.scatter( Q_pts[Q_pt]['x'] - Q_xshift, Q_pts[Q_pt]['y'] - Q_yshift, s=225)\n",
    "plt.scatter( T_pts[T_pt]['x'], T_pts[T_pt]['y'], s=196 ) \n",
    "\n",
    "# show similarity window\n",
    "# the black and white points repsent the points in the positive scoring diagonal\n",
    "# of the suffix table starting at the maximum scoring point\n",
    "# these points are the best locally aligned points\n",
    "Q_window = [Q_order_pts[p] for p in list(Q_order_pts.keys())[ max((mx_q-length),0):(mx_q)] ]\n",
    "plt.scatter( [Q_pts[p]['x'] - Q_xshift for p in Q_window],\n",
    "             [Q_pts[p]['y'] - Q_yshift for p in Q_window], c = 'white' )\n",
    "T_window = [T_order_pts[p] for p in list(T_order_pts.keys())[::-1][(mx_t-length):(mx_t)] ]\n",
    "plt.scatter( [T_pts[p]['x'] for p in T_window],\n",
    "             [T_pts[p]['y'] for p in T_window], c = 'black' )"
   ]
  },
  {
   "cell_type": "code",
   "execution_count": 92,
   "metadata": {
    "scrolled": false
   },
   "outputs": [
    {
     "name": "stdout",
     "output_type": "stream",
     "text": [
      "0 0 0 0 0 0 0 0 0 5 51\n",
      "1.6575952380952381 5.2239561883719094\n"
     ]
    },
    {
     "data": {
      "text/plain": [
       "(array([37950.,  1600.,   922.,   664.,   379.,   199.,   141.,    54.,\n",
       "           50.,    41.]),\n",
       " array([ 0. ,  5.1, 10.2, 15.3, 20.4, 25.5, 30.6, 35.7, 40.8, 45.9, 51. ]),\n",
       " <a list of 10 Patch objects>)"
      ]
     },
     "execution_count": 92,
     "metadata": {},
     "output_type": "execute_result"
    },
    {
     "data": {
      "image/png": "[encoded data removed]",
      "text/plain": [
       "<Figure size 432x288 with 1 Axes>"
      ]
     },
     "metadata": {
      "needs_background": "light"
     },
     "output_type": "display_data"
    }
   ],
   "source": [
    "v = []\n",
    "for i in range(1,len(SuffTable)):\n",
    "    for j in range(1,len(SuffTable[i])):\n",
    "        v.append(SuffTable[i][j])\n",
    "        \n",
    "v.sort()\n",
    "\n",
    "l = len(v)\n",
    "print(min(v), v[int(l*.1)], v[int(l*.2)], v[int(l*.3)], v[int(l*.4)], v[int(l*.5)], \n",
    "              v[int(l*.6)], v[int(l*.7)], v[int(l*.8)], v[int(l*.9)], max(v))\n",
    "print(avg(v), sd(v))\n",
    "plt.hist(v)"
   ]
  },
  {
   "cell_type": "code",
   "execution_count": 98,
   "metadata": {},
   "outputs": [],
   "source": [
    "fout = open('CvsS_MaxDist_Euclid.csv', 'w')\n",
    "for r in SuffTable:\n",
    "    fout.write(','.join([ str(v) for v in r ]) + '\\n')\n",
    "fout.close()"
   ]
  }
 ],
 "metadata": {
  "kernelspec": {
   "display_name": "Python 3",
   "language": "python",
   "name": "python3"
  },
  "language_info": {
   "codemirror_mode": {
    "name": "ipython",
    "version": 3
   },
   "file_extension": ".py",
   "mimetype": "text/x-python",
   "name": "python",
   "nbconvert_exporter": "python",
   "pygments_lexer": "ipython3",
   "version": "3.7.5"
  }
 },
 "nbformat": 4,
 "nbformat_minor": 2
}
