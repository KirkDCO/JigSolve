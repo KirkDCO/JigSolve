{
 "cells": [
  {
   "cell_type": "code",
   "execution_count": 7,
   "metadata": {},
   "outputs": [],
   "source": [
    "from math import *\n",
    "import matplotlib.pyplot as plt\n",
    "\n",
    "def EucDist(X, Y):\n",
    "    return sqrt(sum([ (x-y)**2 for x,y in zip(X,Y) ]))"
   ]
  },
  {
   "cell_type": "code",
   "execution_count": 8,
   "metadata": {},
   "outputs": [],
   "source": [
    "def sd(data):\n",
    "    n = len(data)\n",
    "\n",
    "    if n <= 1:\n",
    "        return 0.0\n",
    "\n",
    "    mean, sd = avg(data), 0.0\n",
    "\n",
    "    # calculate stan. dev.\n",
    "    for el in data:\n",
    "        sd += (float(el) - mean)**2\n",
    "    sd = sqrt(sd / float(n-1))\n",
    "\n",
    "    return sd\n",
    "\n",
    "def avg(ls):\n",
    "    n, mean = len(ls), 0.0\n",
    "\n",
    "    if n <= 1:\n",
    "        return ls[0]\n",
    "\n",
    "    # calculate average\n",
    "    for el in ls:\n",
    "        mean = mean + float(el)\n",
    "    mean = mean / float(n)\n",
    "\n",
    "    return mean\n"
   ]
  },
  {
   "cell_type": "code",
   "execution_count": 9,
   "metadata": {},
   "outputs": [],
   "source": [
    "def AlignPieces_Curvature(X, Y, m, n, mode = 'max distance', cutoff = 0,\n",
    "             dist_score = False, mean = 90, sd = 36): \n",
    "    \n",
    "    # places to store maximum score and which position\n",
    "    mx = 0.0\n",
    "    mx_x = 0\n",
    "    mx_y = 0\n",
    "    \n",
    "    # store the suffix table\n",
    "    SuffTable = [[0 for k in range(n+1)] for l in range(m+1)] \n",
    "      \n",
    "    # Build suffix table \n",
    "    for i in range(m + 1): \n",
    "        for j in range(n + 1): \n",
    "            if (i == 0 or j == 0): \n",
    "                SuffTable[i][j] = 0\n",
    "            else:\n",
    "                d = EucDist(X[i-1], Y[j-1])\n",
    "                if mode == 'max distance': #return actual distances - used to establish cutoff\n",
    "                    SuffTable[i][j] = d\n",
    "                elif mode == 'min distance': #return actual distances - used to establish cutoff\n",
    "                    SuffTable[i][j] = 1/d\n",
    "                elif mode == 'NW_align': # Needleman-Wunsch - global alignment\n",
    "                    if d < cutoff: \n",
    "                        SuffTable[i][j] = SuffTable[i-1][j-1] + 1\n",
    "                    else: #ignore distances above cutoff\n",
    "                        SuffTable[i][j] = SuffTable[i-1][j-1] - 1\n",
    "                elif mode == 'SW align': #Smith-Waterman - local alignment\n",
    "                    if dist_score:\n",
    "                        qtile = (d-mean)/sd\n",
    "                        SuffTable[i][j] = SuffTable[i-1][j-1] - qtile\n",
    "                    else:\n",
    "                        if d < cutoff: \n",
    "                            SuffTable[i][j] = SuffTable[i-1][j-1] + 1\n",
    "                        else: #ignore distances above cutoff\n",
    "                            SuffTable[i][j] = SuffTable[i-1][j-1] - 1\n",
    "                    SuffTable[i][j] = max(0,SuffTable[i][j])\n",
    "                \n",
    "                # store max value and location\n",
    "                if SuffTable[i][j] > mx:\n",
    "                    mx = SuffTable[i][j]\n",
    "                    mx_x = i\n",
    "                    mx_y = j\n",
    "        \n",
    "    return SuffTable, mx, mx_x, mx_y "
   ]
  },
  {
   "cell_type": "code",
   "execution_count": 10,
   "metadata": {},
   "outputs": [],
   "source": [
    "# Load pieces\n",
    "C_order_pts = {}\n",
    "C_dists = []\n",
    "fin = open('C_dists.csv', 'r')\n",
    "for i,l in enumerate(fin):\n",
    "    tok = l.rstrip().split(',')\n",
    "    C_order_pts[i] = int(tok[0]) # inferring order from distance list\n",
    "    C_dists.append( [float(v) for v in tok[1:]] )\n",
    "fin.close()\n",
    "\n",
    "N_order_pts = {}\n",
    "N_dists = []\n",
    "fin = open('N_dists.csv', 'r')\n",
    "for i,l in enumerate(fin):\n",
    "    tok = l.rstrip().split(',')\n",
    "    N_order_pts[i] = int(tok[0]) # inferring order from distance list\n",
    "    N_dists.append( [float(v) for v in tok[1:]] )\n",
    "fin.close()\n",
    "\n",
    "S_order_pts = {}\n",
    "S_dists = []\n",
    "fin = open('S_dists.csv', 'r')\n",
    "for i,l in enumerate(fin):\n",
    "    tok = l.rstrip().split(',')\n",
    "    S_order_pts[i] = int(tok[0]) # inferring order from distance list\n",
    "    S_dists.append( [float(v) for v in tok[1:]] )\n",
    "fin.close()\n",
    "\n",
    "C_pts = {}\n",
    "fin = open('C_border_ordered.csv')\n",
    "h = fin.readline()\n",
    "for i,l in enumerate(fin):\n",
    "    tok = l.rstrip().split(',')\n",
    "    C_pts[i] = {}\n",
    "    C_pts[i]['x'] = int(tok[0])\n",
    "    C_pts[i]['y'] = int(tok[1])\n",
    "fin.close()\n",
    "\n",
    "N_pts = {}\n",
    "fin = open('N_border_ordered.csv')\n",
    "h = fin.readline()\n",
    "for i,l in enumerate(fin):\n",
    "    tok = l.rstrip().split(',')\n",
    "    N_pts[i] = {}\n",
    "    N_pts[i]['x'] = int(tok[0])\n",
    "    N_pts[i]['y'] = int(tok[1])\n",
    "fin.close()\n",
    "\n",
    "S_pts = {}\n",
    "fin = open('S_border_ordered.csv')\n",
    "h = fin.readline()\n",
    "for i,l in enumerate(fin):\n",
    "    tok = l.rstrip().split(',')\n",
    "    S_pts[i] = {}\n",
    "    S_pts[i]['x'] = int(tok[0])\n",
    "    S_pts[i]['y'] = int(tok[1])\n",
    "fin.close()"
   ]
  },
  {
   "cell_type": "code",
   "execution_count": 19,
   "metadata": {
    "scrolled": false
   },
   "outputs": [
    {
     "name": "stdout",
     "output_type": "stream",
     "text": [
      "252.84059625453443 131 34\n"
     ]
    },
    {
     "data": {
      "text/plain": [
       "<matplotlib.collections.PathCollection at 0x7f180e247ed0>"
      ]
     },
     "execution_count": 19,
     "metadata": {},
     "output_type": "execute_result"
    },
    {
     "data": {
      "image/png": "[encoded data removed]",
      "text/plain": [
       "<Figure size 720x720 with 1 Axes>"
      ]
     },
     "metadata": {
      "needs_background": "light"
     },
     "output_type": "display_data"
    }
   ],
   "source": [
    "%matplotlib inline\n",
    "\n",
    "#query piece\n",
    "Q_pts = C_pts\n",
    "Q_order_pts = C_order_pts\n",
    "Q_dists = C_dists\n",
    "\n",
    "#target piece\n",
    "T_pts = N_pts\n",
    "T_order_pts = N_order_pts\n",
    "T_dists = N_dists\n",
    "\n",
    "SuffTable, mx, mx_x, mx_y = AlignPieces_Curvature(Q_dists, T_dists[::-1], \n",
    "                                     len(Q_dists), len(T_dists),\n",
    "                                     mode = 'max distance', cutoff = 30,\n",
    "                                     dist_score = False, mean = 90, sd = 36)\n",
    "print(mx, mx_x, mx_y)\n",
    "\n",
    "# find the best matched point - this is the end of the best match window\n",
    "Q_pt = Q_order_pts[list(Q_order_pts.keys())[mx_x-1]]\n",
    "T_pt = T_order_pts[list(T_order_pts.keys())[::-1][mx_y-1]] \n",
    "\n",
    "# determine the coordinate shift to show the alignment\n",
    "Q_xshift = Q_pts[Q_pt]['x'] - T_pts[T_pt]['x']\n",
    "Q_yshift = Q_pts[Q_pt]['y'] - T_pts[T_pt]['y'] \n",
    "\n",
    "# plot the pieces, aligned at the maximum scoring point\n",
    "plt.figure(figsize = [10,10])\n",
    "plt.scatter( [Q_pts[k]['x'] - Q_xshift for k,v in Q_pts.items() ],\n",
    "             [Q_pts[k]['y'] - Q_yshift for k,v in Q_pts.items() ])\n",
    "plt.scatter( [T_pts[k]['x'] for k,v in T_pts.items() ],\n",
    "             [T_pts[k]['y'] for k,v in T_pts.items() ])\n",
    "\n",
    "# show best matched points\n",
    "plt.scatter( Q_pts[Q_pt]['x'] - Q_xshift, Q_pts[Q_pt]['y'] - Q_yshift, s=196)\n",
    "plt.scatter( T_pts[T_pt]['x'], T_pts[T_pt]['y'], s=196) \n",
    "\n",
    "# show similarity window - the red/green point shows the point of maximum similarity\n",
    "# based on the suffix table.  The black and white dots are the window around that point\n",
    "Q_keys = [v for v in range((mx_x-11),(mx_x+10) )]\n",
    "for i,q in enumerate(Q_keys):\n",
    "    if q < 0:\n",
    "        Q_keys[i] += len(Q_order_pts)\n",
    "    elif q >= len(Q_order_pts):\n",
    "        Q_keys[i] -= len(Q_order_pts)\n",
    "Q_window = [Q_order_pts[p] for p in list(Q_order_pts.keys())[ min(Q_keys):max(Q_keys)+1 ] ]\n",
    "plt.scatter( [Q_pts[p]['x'] - Q_xshift for p in Q_window],\n",
    "             [Q_pts[p]['y'] - Q_yshift for p in Q_window], c = 'white' )\n",
    "\n",
    "T_keys = [v for v in range((mx_y-11),(mx_y+10) )]\n",
    "for i,t in enumerate(T_keys):\n",
    "    if t < 0:\n",
    "        T_keys[i] += len(T_order_pts)\n",
    "    elif t >= len(T_order_pts):\n",
    "        T_keys[i] -= len(T_order_pts)\n",
    "T_window = [T_order_pts[p] for p in list(T_order_pts.keys())[::-1][ min(T_keys):max(T_keys)+1 ] ]\n",
    "plt.scatter( [T_pts[p]['x'] for p in T_window],\n",
    "             [T_pts[p]['y'] for p in T_window], c = 'black' )"
   ]
  },
  {
   "cell_type": "code",
   "execution_count": 12,
   "metadata": {},
   "outputs": [
    {
     "name": "stdout",
     "output_type": "stream",
     "text": [
      "6.403215199843474 47.22316303742786 58.11365824929814 66.81744701755588 75.09036112741889 83.40804008951281 92.79835468664622 103.94218432325097 117.7978209519471 139.61643738912173 252.84059625453443\n",
      "89.29698768701874 37.307793781712704\n"
     ]
    },
    {
     "data": {
      "text/plain": [
       "(array([ 1018.,  6294., 12151., 10355.,  6416.,  3245.,  1499.,   681.,\n",
       "          206.,   135.]),\n",
       " array([  6.4032152 ,  31.04695331,  55.69069141,  80.33442952,\n",
       "        104.97816762, 129.62190573, 154.26564383, 178.90938194,\n",
       "        203.55312004, 228.19685815, 252.84059625]),\n",
       " <a list of 10 Patch objects>)"
      ]
     },
     "execution_count": 12,
     "metadata": {},
     "output_type": "execute_result"
    },
    {
     "data": {
      "image/png": "[encoded data removed]",
      "text/plain": [
       "<Figure size 432x288 with 1 Axes>"
      ]
     },
     "metadata": {
      "needs_background": "light"
     },
     "output_type": "display_data"
    }
   ],
   "source": [
    "# compute summary statistics on the suffix table\n",
    "v = []\n",
    "for i in range(1,len(SuffTable)):\n",
    "    for j in range(1,len(SuffTable[i])):\n",
    "        v.append(SuffTable[i][j])\n",
    "        \n",
    "v.sort()\n",
    "\n",
    "l = len(v)\n",
    "print(min(v), v[int(l*.1)], v[int(l*.2)], v[int(l*.3)], v[int(l*.4)], v[int(l*.5)], \n",
    "              v[int(l*.6)], v[int(l*.7)], v[int(l*.8)], v[int(l*.9)], max(v))\n",
    "print(avg(v), sd(v))\n",
    "plt.hist(v)"
   ]
  },
  {
   "cell_type": "code",
   "execution_count": 224,
   "metadata": {},
   "outputs": [],
   "source": [
    "# write out the suffix table - user for external analyses\n",
    "fout = open('CvsS_SWMatrix_cutoff30.csv', 'w')\n",
    "for r in SuffTable:\n",
    "    fout.write(','.join([ str(v) for v in r ]) + '\\n')\n",
    "fout.close()"
   ]
  }
 ],
 "metadata": {
  "kernelspec": {
   "display_name": "Python 3",
   "language": "python",
   "name": "python3"
  },
  "language_info": {
   "codemirror_mode": {
    "name": "ipython",
    "version": 3
   },
   "file_extension": ".py",
   "mimetype": "text/x-python",
   "name": "python",
   "nbconvert_exporter": "python",
   "pygments_lexer": "ipython3",
   "version": "3.7.5"
  }
 },
 "nbformat": 4,
 "nbformat_minor": 2
}
