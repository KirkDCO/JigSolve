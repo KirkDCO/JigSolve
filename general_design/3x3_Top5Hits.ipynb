{
 "cells": [
  {
   "cell_type": "code",
   "execution_count": 1,
   "metadata": {},
   "outputs": [],
   "source": [
    "import copy\n",
    "import math\n",
    "\n",
    "from Utilities import *\n",
    "from PuzzlePiece import *\n",
    "from AlignerTools import *\n",
    "from SWPuzzleAligner import *\n",
    "from EuclideanSimilarity import *"
   ]
  },
  {
   "cell_type": "code",
   "execution_count": 2,
   "metadata": {},
   "outputs": [],
   "source": [
    "# gather all the pieces\n",
    "target_pieces = {}\n",
    "tried_pieces = {}\n",
    "\n",
    "for p in ['C','N']:#,'NE','E','SE','S','SW','W','NW']:\n",
    "    target_pieces[p] = PuzzlePiece('3x3_pieces/' + p + '_border.csv', \n",
    "                                   border_sampling_rate = .1, window_size = 1)"
   ]
  },
  {
   "cell_type": "code",
   "execution_count": 3,
   "metadata": {},
   "outputs": [],
   "source": [
    "# get the first piece\n",
    "query = target_pieces.pop('C') # this piece serves as the core\n",
    "tried_pieces['C'] = copy.deepcopy(query) # keep a copy in case we need to go back "
   ]
  },
  {
   "cell_type": "code",
   "execution_count": 4,
   "metadata": {},
   "outputs": [
    {
     "name": "stdout",
     "output_type": "stream",
     "text": [
      "dict_keys(['N'])\n"
     ]
    }
   ],
   "source": [
    "###############################\n",
    "# REPEAT HERE\n",
    "##############################\n",
    "print(target_pieces.keys())"
   ]
  },
  {
   "cell_type": "code",
   "execution_count": 5,
   "metadata": {
    "scrolled": true
   },
   "outputs": [
    {
     "name": "stdout",
     "output_type": "stream",
     "text": [
      "mx_list =  [0, 0, 0, 0, 0, 0, 1, 2, 3, 4, 5, 6, 6, 7, 8, 9, 10, 11, 12, 13, 14, 15, 16, 15, 13, 9, 3, 4, 3, 2, 3, 4, 5, 6, 6, 7, 7, 6, 6, 7, 8, 9, 10, 9, 7, 8, 9, 10, 11, 10, 9, 10, 10, 9, 7, 3, 4, 5, 6, 7, 8, 9, 10, 9, 8, 9, 9, 10, 9, 7, 3, 4, 5, 6, 7, 8, 9, 10, 11, 12, 13, 14, 15, 16, 17, 18, 19, 20, 21, 22, 23, 24, 24, 23, 21, 17, 11, 12, 13, 14, 15, 16, 17, 16, 14, 10, 8, 9, 10, 9, 7, 5, 6, 7, 8, 9, 8, 6, 2, 0, 0]\n",
      "mx[a] =  24\n",
      "mx_M[a] =  91\n",
      "mx_N[a] =  83\n",
      "mx_list =  [0, 0, 0, 0, 0, 0, 1, 2, 3, 4, 5, 6, 6, 7, 8, 9, 10, 11, 12, 13, 14, 15, 16, 15, 13, 9, 3, 4, 3, 2, 3, 4, 5, 6, 6, 7, 7, 6, 6, 7, 8, 9, 10, 9, 7, 8, 9, 10, 11, 10, 9, 10, 10, 9, 7, 3, 4, 5, 6, 7, 8, 9, 10, 9, 8, 9, 9, 10, 9, 7, 3, 4, 5, 6, 7, 8, 9, 10, 11, 12, 12, 13, 14, 15, 16, 17, 18, 19, 20, 21, 22, 23, 24, 23, 21, 17, 11, 12, 13, 14, 15, 16, 17, 16, 14, 10, 8, 9, 10, 9, 7, 5, 6, 7, 8, 9, 8, 6, 2, 0, 0]\n",
      "mx[a] =  24\n",
      "mx_M[a] =  92\n",
      "mx_N[a] =  83\n",
      "mx_list =  [0, 0, 0, 0, 0, 0, 1, 2, 3, 4, 5, 6, 6, 7, 8, 9, 10, 11, 12, 13, 14, 15, 16, 15, 13, 9, 3, 4, 3, 2, 3, 4, 5, 6, 6, 7, 7, 6, 6, 7, 8, 9, 10, 9, 7, 8, 9, 10, 11, 10, 9, 10, 10, 9, 7, 3, 4, 5, 6, 7, 8, 9, 10, 9, 8, 9, 9, 10, 9, 7, 3, 4, 5, 6, 7, 8, 9, 10, 11, 12, 11, 9, 5, 3, 4, 5, 6, 7, 7, 8, 9, 10, 9, 8, 9, 10, 11, 12, 13, 14, 15, 16, 17, 16, 14, 10, 8, 9, 10, 9, 7, 5, 6, 7, 8, 9, 8, 6, 2, 0, 0]\n",
      "mx[a] =  17\n",
      "mx_M[a] =  102\n",
      "mx_N[a] =  60\n",
      "mx_list =  [0, 0, 0, 0, 0, 0, 1, 2, 3, 4, 5, 6, 6, 7, 8, 9, 10, 11, 12, 13, 14, 15, 16, 15, 13, 9, 3, 4, 3, 2, 3, 4, 5, 6, 6, 7, 7, 6, 6, 7, 8, 9, 10, 9, 7, 8, 9, 10, 11, 10, 9, 10, 10, 9, 7, 3, 4, 5, 6, 7, 8, 9, 10, 9, 8, 9, 9, 10, 9, 7, 3, 4, 5, 6, 7, 8, 9, 10, 11, 12, 11, 9, 5, 3, 4, 5, 6, 7, 7, 8, 9, 10, 9, 7, 7, 8, 9, 10, 11, 12, 13, 14, 15, 14, 12, 8, 8, 9, 10, 9, 7, 5, 6, 7, 8, 9, 8, 6, 2, 0, 0]\n",
      "mx[a] =  16\n",
      "mx_M[a] =  22\n",
      "mx_N[a] =  43\n",
      "mx_list =  [0, 0, 0, 0, 0, 0, 1, 2, 3, 4, 5, 6, 6, 7, 8, 9, 10, 11, 12, 13, 14, 13, 11, 7, 3, 2, 3, 4, 3, 2, 3, 4, 5, 6, 6, 7, 7, 6, 6, 7, 8, 9, 10, 9, 7, 8, 9, 10, 11, 10, 9, 10, 10, 9, 7, 3, 4, 5, 6, 7, 8, 9, 10, 9, 8, 9, 9, 10, 9, 7, 3, 4, 5, 6, 7, 8, 9, 10, 11, 12, 11, 9, 5, 3, 4, 5, 6, 7, 7, 8, 9, 10, 9, 7, 7, 8, 9, 10, 11, 12, 13, 14, 15, 14, 12, 8, 8, 9, 10, 9, 7, 5, 6, 7, 8, 9, 8, 6, 2, 0, 0]\n",
      "mx[a] =  15\n",
      "mx_M[a] =  102\n",
      "mx_N[a] =  59\n"
     ]
    }
   ],
   "source": [
    "# find the closest match in the other pieces\n",
    "mx_score = 0\n",
    "mx_piece = ''\n",
    "\n",
    "alignments = {}\n",
    "\n",
    "for i,p in enumerate(target_pieces):\n",
    "    \n",
    "    target = target_pieces[p]\n",
    "    \n",
    "    # extend the query to account for circular sequence\n",
    "    tail_length = min(int(len(target_pieces[p].border_sample) * .15),\n",
    "                      int(len(query.border_sample) * .15))\n",
    "\n",
    "    query.extend_border_sample(tail_length)\n",
    "    target.extend_border_sample(tail_length, reverse = True)\n",
    "    \n",
    "    Aligner = SWPuzzleAligner(EuclideanSimilarity())\n",
    "    alignments = Aligner.Align(M = query.border_sample_ext, \n",
    "                               N = target.border_sample_ext,\n",
    "                               window = 5, cutoff_percentile = 0.05,\n",
    "                               return_top = 5)\n",
    "######################\n",
    "# NEED TO ADJUST FOR TOP 5 RETURN FROM ALIGN()\n",
    "#####################  \n",
    "    \n",
    "#     if mx > mx_score:\n",
    "#         mx_score = mx\n",
    "#         mx_piece = p\n",
    "        \n",
    "#     print(p, mx, mx_Q, mx_T, length, mx/length)"
   ]
  },
  {
   "cell_type": "code",
   "execution_count": null,
   "metadata": {},
   "outputs": [],
   "source": [
    "alignments"
   ]
  },
  {
   "cell_type": "code",
   "execution_count": null,
   "metadata": {},
   "outputs": [],
   "source": [
    "######################\n",
    "# NEED TO ADJUST FOR TOP 5 RETURN FROM ALIGN()\n",
    "#####################\n",
    "\n",
    "mx_alignment = alignments[mx_piece]\n",
    "SuffTable = mx_alignment['SuffTable']\n",
    "mx = mx_alignment['mx_score']\n",
    "mx_Q = mx_alignment['mx_Q']\n",
    "mx_T = mx_alignment['mx_T']\n",
    "length = mx_alignment['length']\n",
    "\n",
    "#target = target_pieces.pop(mx_piece)\n",
    "target = target_pieces[mx_piece]\n",
    "print('Best: ', mx_piece, mx, mx_Q, mx_T, length)"
   ]
  },
  {
   "cell_type": "code",
   "execution_count": null,
   "metadata": {},
   "outputs": [],
   "source": [
    "mx_Q = 89\n",
    "mx_T = 93"
   ]
  },
  {
   "cell_type": "code",
   "execution_count": null,
   "metadata": {
    "scrolled": false
   },
   "outputs": [],
   "source": [
    "#find the best matched point - this is the end of the best match window\n",
    "Q_pt = query.border_sample[query.ext_to_old_index[mx_Q-int(length/2)]] # -length/2 aligns to middle of matching region\n",
    "T_pt = target.border_sample[target.ext_to_old_index[mx_T-int(length/2)]] # this is specific to pairwise distances\n",
    "\n",
    "# find x,y shift to align pieces based on that one point\n",
    "T_xshift = T_pt['x'] - Q_pt['x']\n",
    "T_yshift = T_pt['y'] - Q_pt['y'] \n",
    "\n",
    "plt.figure(figsize = [10,10])\n",
    "plt.scatter( [query.border_sample[k]['x'] for k,v in query.border_sample.items() ],\n",
    "             [query.border_sample[k]['y'] for k,v in query.border_sample.items() ])\n",
    "plt.scatter( [target.border_sample[k]['x'] - T_xshift for k,v in target.border_sample.items() ],\n",
    "             [target.border_sample[k]['y'] - T_yshift for k,v in target.border_sample.items() ])\n",
    "\n",
    "# show best matched points - second will overplot first due to alignment\n",
    "plt.scatter( Q_pt['x'], Q_pt['y'], s=400)\n",
    "plt.scatter( T_pt['x'] - T_xshift, T_pt['y'] - T_yshift, s=196 ) \n",
    "\n",
    "# show similarity window\n",
    "# the black and grey points repsent the points in the positive scoring diagonal\n",
    "# of the suffix table starting at the maximum scoring point\n",
    "# these points are the best locally aligned points\n",
    "Q_window = [query.border_sample[query.ext_to_old_index[q]] for q in range(mx_Q - length, mx_Q)]\n",
    "plt.scatter( [p['x'] for p in Q_window],\n",
    "             [p['y'] for p in Q_window], c = 'grey' )\n",
    "\n",
    "T_window = [target.border_sample[target.ext_to_old_index[t]] for t in range(mx_T - length, mx_T)]\n",
    "plt.scatter( [p['x'] - T_xshift for p in T_window],\n",
    "             [p['y'] - T_yshift for p in T_window], c = 'black' )\n"
   ]
  },
  {
   "cell_type": "code",
   "execution_count": null,
   "metadata": {},
   "outputs": [],
   "source": [
    "# combine the pieces into one piece\n",
    "Q_window_pts = [q for q in range(mx_Q-length, mx_Q)]\n",
    "T_window_pts = [t for t in range(mx_T-length, mx_T)]\n",
    "\n",
    "Q_x = [ q[1]['x'] for q in query.border.items() ]\n",
    "Q_y = [ q[1]['y'] for q in query.border.items() ]\n",
    "\n",
    "T_orig_x = [ t[1]['x'] for t in target.border.items() ]\n",
    "T_orig_y = [ t[1]['y'] for t in target.border.items() ]\n",
    "\n",
    "target.reposition(T_window_pts, query, Q_window_pts)\n",
    "\n",
    "T_shifted_x = [t[1]['x'] for t in target.border.items() ]\n",
    "T_shifted_y = [t[1]['y'] for t in target.border.items() ]\n",
    "\n",
    "plt.figure(figsize = [15,15])\n",
    "plt.scatter( Q_x, Q_y, c = 'blue', s=16)\n",
    "plt.scatter( T_orig_x, T_orig_y, c = 'orange', s=16)\n",
    "plt.scatter( T_shifted_x, T_shifted_y, c = 'black', s=16)\n",
    "#plt.savefig('placement_figs/temp_translation.png')\n",
    "            \n",
    "query.merge(target)\n",
    "\n",
    "Q_merged_x = [ q[1]['x'] for q in query.border.items() ]\n",
    "Q_merged_y = [ q[1]['y'] for q in query.border.items() ]\n",
    "\n",
    "plt.figure(figsize = [15,15])\n",
    "plt.scatter( Q_merged_x, Q_merged_y, c = 'blue', s=16)\n",
    "#plt.savefig('placement_figs/temp_composite.png')"
   ]
  },
  {
   "cell_type": "code",
   "execution_count": null,
   "metadata": {},
   "outputs": [],
   "source": [
    "#########################\n",
    "# REPEAT ABOVE\n",
    "#########################\n",
    "target = target_pieces.pop(mx_piece)"
   ]
  },
  {
   "cell_type": "code",
   "execution_count": null,
   "metadata": {},
   "outputs": [],
   "source": []
  }
 ],
 "metadata": {
  "kernelspec": {
   "display_name": "Python 3",
   "language": "python",
   "name": "python3"
  },
  "language_info": {
   "codemirror_mode": {
    "name": "ipython",
    "version": 3
   },
   "file_extension": ".py",
   "mimetype": "text/x-python",
   "name": "python",
   "nbconvert_exporter": "python",
   "pygments_lexer": "ipython3",
   "version": "3.7.5"
  }
 },
 "nbformat": 4,
 "nbformat_minor": 2
}
