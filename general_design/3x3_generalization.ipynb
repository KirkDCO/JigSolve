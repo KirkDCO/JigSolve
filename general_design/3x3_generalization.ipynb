{
 "cells": [
  {
   "cell_type": "code",
   "execution_count": 1,
   "metadata": {},
   "outputs": [],
   "source": [
    "import copy\n",
    "import math\n",
    "\n",
    "from Utilities import *\n",
    "from PuzzlePiece import *\n",
    "from AlignerTools import *"
   ]
  },
  {
   "cell_type": "code",
   "execution_count": 2,
   "metadata": {},
   "outputs": [],
   "source": [
    "# gather all the pieces\n",
    "target_pieces = {}\n",
    "tried_pieces = {}\n",
    "\n",
    "for p in ['C','N','NE']: #,'E','SE','S','SW','W','NW']:\n",
    "    target_pieces[p] = PuzzlePiece('3x3_pieces/' + p + '_border.csv', border_sampling_rate=.2)"
   ]
  },
  {
   "cell_type": "code",
   "execution_count": 3,
   "metadata": {},
   "outputs": [],
   "source": [
    "# get the first piece\n",
    "query = target_pieces.pop('C') # this piece serves as the core\n",
    "tried_pieces['C'] = copy.deepcopy(query) # keep a copy in case we need to go back "
   ]
  },
  {
   "cell_type": "code",
   "execution_count": 4,
   "metadata": {},
   "outputs": [
    {
     "name": "stdout",
     "output_type": "stream",
     "text": [
      "dict_keys(['N', 'NE'])\n"
     ]
    }
   ],
   "source": [
    "###############################\n",
    "# REPEAT HERE\n",
    "##############################\n",
    "print(target_pieces.keys())"
   ]
  },
  {
   "cell_type": "code",
   "execution_count": 5,
   "metadata": {},
   "outputs": [
    {
     "name": "stdout",
     "output_type": "stream",
     "text": [
      "DIY: N 51 184 168 52\n",
      "DIY: NE 50 183 135 51\n",
      "Best:  N 51 29\n"
     ]
    }
   ],
   "source": [
    "# find the closest match in the other pieces\n",
    "mx_score = 0\n",
    "mx_piece = ''\n",
    "\n",
    "alignments = {}\n",
    "\n",
    "for i,p in enumerate(target_pieces):\n",
    "    \n",
    "    target = target_pieces[p]\n",
    "    \n",
    "    # extend the query to account for circular sequence\n",
    "    tail_length = min(int(len(target_pieces[p].border_sample) * .15),\n",
    "                  int(len(query.border_sample) * .15))\n",
    "\n",
    "    query.extend_border_sample(tail_length)\n",
    "    target.extend_border_sample(tail_length, reverse = True)\n",
    "    \n",
    "    # get the full pairwise matrix to establish the cutoff value\n",
    "    DistMatrix, mx, mx_Q, mx_T, length = \\\n",
    "        AlignPiecesEuclid(query.border_sample_ext, \n",
    "                           target.border_sample_ext, window = 10)\n",
    "    \n",
    "    sims = []\n",
    "    for i in range(1,len(DistMatrix)):\n",
    "        for j in range(1,len(DistMatrix[i])):\n",
    "            sims.append(DistMatrix[i][j])\n",
    "\n",
    "    sims.sort()\n",
    "    cutoff = sims[int(len(sims)*.1)]\n",
    "    \n",
    "    # Build suffix table from the distance matrix\n",
    "    distr_score = False\n",
    "    av = 25\n",
    "    sd = 5\n",
    "    \n",
    "    diy_mx = 0.0\n",
    "    diy_mx_Q = 0\n",
    "    diy_mx_T = 0\n",
    "    \n",
    "    DIYSuffTable = [[0 for k in range(len(target.border_sample_ext)+1)] \n",
    "                       for l in range(len(query.border_sample_ext)+1)] \n",
    "    cutoff_multiplier = 2 # penalty for extended ranges outsisde cutoff\n",
    "    for i in range(len(query.border_sample_ext) + 1): \n",
    "        for j in range(len(target.border_sample_ext) + 1): \n",
    "            if (i == 0 or j == 0): \n",
    "                DIYSuffTable[i][j] = 0\n",
    "            else:\n",
    "                d = DistMatrix[i][j]\n",
    "                if distr_score:\n",
    "                    qtile = (d-av)/sd\n",
    "                    if qtile > 0:\n",
    "                        DIYSuffTable[i][j] = DIYSuffTable[i-1][j-1] - qtile * cutoff_multiplier\n",
    "                        cutoff_multiplier *= 2\n",
    "                    else:\n",
    "                        DIYSuffTable[i][j] = DIYSuffTable[i-1][j-1] - qtile\n",
    "                        cutoff_multiplier = 2\n",
    "                else:\n",
    "                    if d < cutoff: # small distance improve our score\n",
    "                        DIYSuffTable[i][j] = DIYSuffTable[i-1][j-1] + 1\n",
    "                        cutoff_multiplier = 1\n",
    "                    else: #large distances degrade our score\n",
    "                        DIYSuffTable[i][j] = DIYSuffTable[i-1][j-1] - cutoff_multiplier\n",
    "                        cutoff_multiplier *= 2\n",
    "                DIYSuffTable[i][j] = max(0,DIYSuffTable[i][j])\n",
    "\n",
    "                if DIYSuffTable[i][j] > diy_mx:\n",
    "                    diy_mx = DIYSuffTable[i][j]\n",
    "                    diy_mx_Q = i\n",
    "                    diy_mx_T = j\n",
    "    \n",
    "    # determine the length of the best scoring window\n",
    "    diy_length = 1\n",
    "    for diy_length in range( 1, min(diy_mx_Q,diy_mx_T)+1 ):\n",
    "        if DIYSuffTable[diy_mx_Q-diy_length][diy_mx_T-diy_length] == 0:\n",
    "            break\n",
    "    diy_length += 1\n",
    "    \n",
    "    print('DIY:', p, diy_mx, diy_mx_Q, diy_mx_T, diy_length)\n",
    "    \n",
    "    # adjust for possible circular overlap\n",
    "    if diy_mx_Q >= len(query.border_sample_ext):\n",
    "        diy_mx_Q = diy_mx_Q - len(query.border_sample_ext) \n",
    "    if diy_mx_T >= len(target.border_sample_ext):\n",
    "        diy_mx_T = diy_mx_T - len(target.border_sample_ext)\n",
    "        \n",
    "    alignments[p] = { 'SuffTable': DIYSuffTable,\n",
    "                      'mx_score': diy_mx,\n",
    "                      'mx_Q': diy_mx_Q,\n",
    "                      'mx_T': diy_mx_T,\n",
    "                      'length': diy_length,\n",
    "                      'cutoff': cutoff}\n",
    "    \n",
    "    if diy_mx > mx_score:\n",
    "        mx_score = diy_mx\n",
    "        mx_piece = p\n",
    "        \n",
    "print('Best: ', mx_piece, mx_score, length)"
   ]
  },
  {
   "cell_type": "code",
   "execution_count": 6,
   "metadata": {},
   "outputs": [
    {
     "name": "stdout",
     "output_type": "stream",
     "text": [
      "N 51 184 168 52 0.9807692307692307\n"
     ]
    }
   ],
   "source": [
    "mx_piece_rev = { i:target_pieces[mx_piece].border_sample[i]\n",
    "                    for i in list(target_pieces[mx_piece].border_sample.keys())[::-1] }\n",
    "\n",
    "mx_alignment = alignments[mx_piece]\n",
    "SuffTable = mx_alignment['SuffTable']\n",
    "mx = mx_alignment['mx_score']\n",
    "mx_Q = mx_alignment['mx_Q']\n",
    "mx_T = mx_alignment['mx_T']\n",
    "length = mx_alignment['length']\n",
    "cutoff = mx_alignment['cutoff']\n",
    "\n",
    "print(mx_piece, mx, mx_Q, mx_T, length, mx/length)\n",
    "target = target_pieces.pop(mx_piece)"
   ]
  },
  {
   "cell_type": "code",
   "execution_count": 7,
   "metadata": {
    "scrolled": false
   },
   "outputs": [
    {
     "data": {
      "text/plain": [
       "<matplotlib.collections.PathCollection at 0x7f6dcacebd10>"
      ]
     },
     "execution_count": 7,
     "metadata": {},
     "output_type": "execute_result"
    },
    {
     "data": {
      "image/png": "[encoded data removed]",
      "text/plain": [
       "<Figure size 720x720 with 1 Axes>"
      ]
     },
     "metadata": {
      "needs_background": "light"
     },
     "output_type": "display_data"
    }
   ],
   "source": [
    "#find the best matched point - this is the end of the best match window\n",
    "Q_pt = query.border_sample_ext[list(query.border_sample_ext.keys())[mx_Q-1]]\n",
    "T_pt = target.border_sample_ext[list(target.border_sample_ext.keys())[::-1][mx_T-1]] \n",
    "\n",
    "# find x,y shift to align pieces\n",
    "T_xshift = T_pt['x'] - Q_pt['x']\n",
    "T_yshift = T_pt['y'] - Q_pt['y'] \n",
    "\n",
    "plt.figure(figsize = [10,10])\n",
    "plt.scatter( [query.border_sample[k]['x'] for k,v in query.border_sample.items() ],\n",
    "             [query.border_sample[k]['y'] for k,v in query.border_sample.items() ])\n",
    "plt.scatter( [target.border_sample[k]['x'] - T_xshift for k,v in target.border_sample.items() ],\n",
    "             [target.border_sample[k]['y'] - T_yshift for k,v in target.border_sample.items() ])\n",
    "\n",
    "# show best matched points - second will overplot first due to alignment\n",
    "plt.scatter( Q_pt['x'], Q_pt['y'], s=400)\n",
    "plt.scatter( T_pt['x'] - T_xshift, T_pt['y'] - T_yshift, s=196 ) \n",
    "\n",
    "# show similarity window\n",
    "# the black and white points repsent the points in the positive scoring diagonal\n",
    "# of the suffix table starting at the maximum scoring point\n",
    "# these points are the best locally aligned points\n",
    "Q_window = [query.border_sample[p] for p in list(query.border_sample.keys())[ max((mx_Q-length),0):(mx_Q)] ]\n",
    "plt.scatter( [p['x'] for p in Q_window],\n",
    "             [p['y'] for p in Q_window], c = 'grey' )\n",
    "T_window = [target.border_sample[p] for p in list(target.border_sample.keys())[::-1][(mx_T-length):(mx_T)] ]\n",
    "plt.scatter( [p['x'] - T_xshift for p in T_window],\n",
    "             [p['y'] - T_yshift for p in T_window], c = 'black' )"
   ]
  },
  {
   "cell_type": "code",
   "execution_count": null,
   "metadata": {},
   "outputs": [],
   "source": [
    "# combine the pieces into one piece\n",
    "Q_window_pts = [q for q in range(mx_Q-length, mx_Q)]\n",
    "T_window_pts = [t for t in range(mx_T-length, mx_T)]\n",
    "\n",
    "Q_x = [ q[1]['x'] for q in query.border.items() ]\n",
    "Q_y = [ q[1]['y'] for q in query.border.items() ]\n",
    "\n",
    "T_orig_x = [ t[1]['x'] for t in target.border.items() ]\n",
    "T_orig_y = [ t[1]['y'] for t in target.border.items() ]\n",
    "\n",
    "target.reposition(T_window_pts, query, Q_window_pts)\n",
    "\n",
    "T_shifted_x = [t[1]['x'] for t in target.border.items() ]\n",
    "T_shifted_y = [t[1]['y'] for t in target.border.items() ]\n",
    "\n",
    "plt.figure(figsize = [15,15])\n",
    "plt.scatter( Q_x, Q_y, c = 'blue', s=1)\n",
    "plt.scatter( T_orig_x, T_orig_y, c = 'orange', s=2)\n",
    "plt.scatter( T_shifted_x, T_shifted_y, c = 'black', s=2)\n",
    "\n",
    "print(len(query.border))\n",
    "query.merge(target)\n",
    "print(len(query.border))\n",
    "\n",
    "Q_merged_x = [ q[1]['x'] for q in query.border.items() ]\n",
    "Q_merged_y = [ q[1]['y'] for q in query.border.items() ]\n",
    "\n",
    "plt.figure(figsize = [15,15])\n",
    "plt.scatter( Q_merged_x, Q_merged_y, c = 'blue', s=1)\n"
   ]
  },
  {
   "cell_type": "code",
   "execution_count": null,
   "metadata": {},
   "outputs": [],
   "source": [
    "#########################\n",
    "# REPEAT ABOVE\n",
    "#########################"
   ]
  }
 ],
 "metadata": {
  "kernelspec": {
   "display_name": "Python 3",
   "language": "python",
   "name": "python3"
  },
  "language_info": {
   "codemirror_mode": {
    "name": "ipython",
    "version": 3
   },
   "file_extension": ".py",
   "mimetype": "text/x-python",
   "name": "python",
   "nbconvert_exporter": "python",
   "pygments_lexer": "ipython3",
   "version": "3.7.5"
  }
 },
 "nbformat": 4,
 "nbformat_minor": 2
}
