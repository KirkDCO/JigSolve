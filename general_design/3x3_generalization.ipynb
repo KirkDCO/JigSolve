{
 "cells": [
  {
   "cell_type": "code",
   "execution_count": 2,
   "metadata": {},
   "outputs": [],
   "source": [
    "import copy\n",
    "import math\n",
    "\n",
    "from Utilities import *\n",
    "from PuzzlePiece import *\n",
    "from AlignerTools import *\n",
    "from SWPuzzleAligner import *\n",
    "from EuclideanSimilarity import *\n",
    "from PairwiseDistanceSimilarity import *"
   ]
  },
  {
   "cell_type": "code",
   "execution_count": 4,
   "metadata": {},
   "outputs": [],
   "source": [
    "# gather all the pieces\n",
    "target_pieces = {}\n",
    "tried_pieces = {}\n",
    "\n",
    "for p in ['C','N','NE','E','SE','S','SW','W','NW']:\n",
    "    target_pieces[p] = PuzzlePiece('3x3_pieces/' + p + '_border.csv', \n",
    "                                   border_sampling_rate = .1, window_size = 1)"
   ]
  },
  {
   "cell_type": "code",
   "execution_count": 5,
   "metadata": {},
   "outputs": [],
   "source": [
    "# get the first piece\n",
    "query = target_pieces.pop('C') # this piece serves as the core\n",
    "tried_pieces['C'] = copy.deepcopy(query) # keep a copy in case we need to go back "
   ]
  },
  {
   "cell_type": "code",
   "execution_count": 6,
   "metadata": {},
   "outputs": [
    {
     "name": "stdout",
     "output_type": "stream",
     "text": [
      "dict_keys(['C', 'N', 'NE', 'E', 'SE', 'S', 'SW', 'W'])\n"
     ]
    }
   ],
   "source": [
    "###############################\n",
    "# REPEAT HERE\n",
    "##############################\n",
    "print(target_pieces.keys())"
   ]
  },
  {
   "cell_type": "code",
   "execution_count": 9,
   "metadata": {},
   "outputs": [
    {
     "ename": "ValueError",
     "evalue": "not enough values to unpack (expected 5, got 4)",
     "output_type": "error",
     "traceback": [
      "\u001b[0;31m---------------------------------------------------------------------------\u001b[0m",
      "\u001b[0;31mValueError\u001b[0m                                Traceback (most recent call last)",
      "\u001b[0;32m<ipython-input-9-9b974af05ca5>\u001b[0m in \u001b[0;36m<module>\u001b[0;34m\u001b[0m\n\u001b[1;32m     17\u001b[0m \u001b[0;34m\u001b[0m\u001b[0m\n\u001b[1;32m     18\u001b[0m     \u001b[0mAligner\u001b[0m \u001b[0;34m=\u001b[0m \u001b[0mSWPuzzleAligner\u001b[0m\u001b[0;34m(\u001b[0m\u001b[0mEuclideanSimilarity\u001b[0m\u001b[0;34m(\u001b[0m\u001b[0;34m)\u001b[0m\u001b[0;34m)\u001b[0m\u001b[0;34m\u001b[0m\u001b[0;34m\u001b[0m\u001b[0m\n\u001b[0;32m---> 19\u001b[0;31m     SuffixTable, mx, mx_Q, mx_T, length = Aligner.Align(\n\u001b[0m\u001b[1;32m     20\u001b[0m                     \u001b[0mQ\u001b[0m \u001b[0;34m=\u001b[0m \u001b[0mquery\u001b[0m\u001b[0;34m.\u001b[0m\u001b[0mborder_sample_ext\u001b[0m\u001b[0;34m,\u001b[0m\u001b[0;34m\u001b[0m\u001b[0;34m\u001b[0m\u001b[0m\n\u001b[1;32m     21\u001b[0m                     \u001b[0mT\u001b[0m \u001b[0;34m=\u001b[0m \u001b[0mtarget\u001b[0m\u001b[0;34m.\u001b[0m\u001b[0mborder_sample_ext\u001b[0m\u001b[0;34m,\u001b[0m\u001b[0;34m\u001b[0m\u001b[0;34m\u001b[0m\u001b[0m\n",
      "\u001b[0;31mValueError\u001b[0m: not enough values to unpack (expected 5, got 4)"
     ]
    }
   ],
   "source": [
    "# find the closest match in the other pieces\n",
    "mx_score = 0\n",
    "mx_piece = ''\n",
    "\n",
    "alignments = {}\n",
    "\n",
    "for i,p in enumerate(target_pieces):\n",
    "    \n",
    "    target = target_pieces[p]\n",
    "    \n",
    "    # extend the query to account for circular sequence\n",
    "    tail_length = min(int(len(target_pieces[p].border_sample) * .15),\n",
    "                      int(len(query.border_sample) * .15))\n",
    "\n",
    "    query.extend_border_sample(tail_length)\n",
    "    target.extend_border_sample(tail_length, reverse = True)\n",
    "    \n",
    "    Aligner = SWPuzzleAligner(EuclideanSimilarity())\n",
    "    SuffixTable, mx, mx_Q, mx_T, length = Aligner.Align(\n",
    "                    M = query.border_sample_ext, \n",
    "                    N = target.border_sample_ext,\n",
    "                    window = 5, cutoff_percentile = 0.01)\n",
    "\n",
    "#     Aligner = SWPuzzleAligner(PairwiseDistanceSimilarity())\n",
    "#     SuffixTable, mx, mx_Q, mx_T, length = Aligner.Align(\n",
    "#                     M = query.sample_dists, \n",
    "#                     N = { len(target.sample_dists)-i-1: v for i,v in target.sample_dists.items() }, # has to be reversed and not getting extension\n",
    "#                     cutoff_percentile = .10)\n",
    "    \n",
    "    alignments[p] = { 'SuffTable': SuffixTable,\n",
    "                      'mx_score': mx,\n",
    "                      'mx_Q': mx_Q,\n",
    "                      'mx_T': mx_T,\n",
    "                      'length': length}\n",
    "    \n",
    "    if mx > mx_score:\n",
    "        mx_score = mx\n",
    "        mx_piece = p\n",
    "        \n",
    "    print(p, mx, mx_Q, mx_T, length, mx/length)"
   ]
  },
  {
   "cell_type": "code",
   "execution_count": null,
   "metadata": {},
   "outputs": [],
   "source": [
    "mx_alignment = alignments[mx_piece]\n",
    "SuffTable = mx_alignment['SuffTable']\n",
    "mx = mx_alignment['mx_score']\n",
    "mx_Q = mx_alignment['mx_Q']\n",
    "mx_T = mx_alignment['mx_T']\n",
    "length = mx_alignment['length']\n",
    "\n",
    "#target = target_pieces.pop(mx_piece)\n",
    "target = target_pieces[mx_piece]\n",
    "print('Best: ', mx_piece, mx, mx_Q, mx_T, length)"
   ]
  },
  {
   "cell_type": "code",
   "execution_count": null,
   "metadata": {
    "scrolled": false
   },
   "outputs": [],
   "source": [
    "#find the best matched point - this is the end of the best match window\n",
    "Q_pt = query.border_sample[query.ext_to_old_index[mx_Q-int(length/2)]] # -length/2 aligns to middle of matching region\n",
    "T_pt = target.border_sample[target.ext_to_old_index[mx_T-int(length/2)]] # this is specific to pairwise distances\n",
    "\n",
    "# find x,y shift to align pieces based on that one point\n",
    "T_xshift = T_pt['x'] - Q_pt['x']\n",
    "T_yshift = T_pt['y'] - Q_pt['y'] \n",
    "\n",
    "plt.figure(figsize = [10,10])\n",
    "plt.scatter( [query.border_sample[k]['x'] for k,v in query.border_sample.items() ],\n",
    "             [query.border_sample[k]['y'] for k,v in query.border_sample.items() ])\n",
    "plt.scatter( [target.border_sample[k]['x'] - T_xshift for k,v in target.border_sample.items() ],\n",
    "             [target.border_sample[k]['y'] - T_yshift for k,v in target.border_sample.items() ])\n",
    "\n",
    "# show best matched points - second will overplot first due to alignment\n",
    "plt.scatter( Q_pt['x'], Q_pt['y'], s=400)\n",
    "plt.scatter( T_pt['x'] - T_xshift, T_pt['y'] - T_yshift, s=196 ) \n",
    "\n",
    "# show similarity window\n",
    "# the black and grey points repsent the points in the positive scoring diagonal\n",
    "# of the suffix table starting at the maximum scoring point\n",
    "# these points are the best locally aligned points\n",
    "Q_window = [query.border_sample[query.ext_to_old_index[q]] for q in range(mx_Q - length, mx_Q)]\n",
    "plt.scatter( [p['x'] for p in Q_window],\n",
    "             [p['y'] for p in Q_window], c = 'grey' )\n",
    "\n",
    "T_window = [target.border_sample[target.ext_to_old_index[t]] for t in range(mx_T - length, mx_T)]\n",
    "plt.scatter( [p['x'] - T_xshift for p in T_window],\n",
    "             [p['y'] - T_yshift for p in T_window], c = 'black' )\n"
   ]
  },
  {
   "cell_type": "code",
   "execution_count": null,
   "metadata": {},
   "outputs": [],
   "source": [
    "# combine the pieces into one piece\n",
    "Q_window_pts = [q for q in range(mx_Q-length, mx_Q)]\n",
    "T_window_pts = [t for t in range(mx_T-length, mx_T)]\n",
    "\n",
    "Q_x = [ q[1]['x'] for q in query.border.items() ]\n",
    "Q_y = [ q[1]['y'] for q in query.border.items() ]\n",
    "\n",
    "T_orig_x = [ t[1]['x'] for t in target.border.items() ]\n",
    "T_orig_y = [ t[1]['y'] for t in target.border.items() ]\n",
    "\n",
    "target.reposition(T_window_pts, query, Q_window_pts)\n",
    "\n",
    "T_shifted_x = [t[1]['x'] for t in target.border.items() ]\n",
    "T_shifted_y = [t[1]['y'] for t in target.border.items() ]\n",
    "\n",
    "plt.figure(figsize = [15,15])\n",
    "plt.scatter( Q_x, Q_y, c = 'blue', s=16)\n",
    "plt.scatter( T_orig_x, T_orig_y, c = 'orange', s=16)\n",
    "plt.scatter( T_shifted_x, T_shifted_y, c = 'black', s=16)\n",
    "#plt.savefig('placement_figs/temp_translation.png')\n",
    "            \n",
    "query.merge(target)\n",
    "\n",
    "Q_merged_x = [ q[1]['x'] for q in query.border.items() ]\n",
    "Q_merged_y = [ q[1]['y'] for q in query.border.items() ]\n",
    "\n",
    "plt.figure(figsize = [15,15])\n",
    "plt.scatter( Q_merged_x, Q_merged_y, c = 'blue', s=16)\n",
    "#plt.savefig('placement_figs/temp_composite.png')"
   ]
  },
  {
   "cell_type": "code",
   "execution_count": null,
   "metadata": {},
   "outputs": [],
   "source": [
    "#########################\n",
    "# REPEAT ABOVE\n",
    "#########################\n",
    "target = target_pieces.pop(mx_piece)"
   ]
  },
  {
   "cell_type": "code",
   "execution_count": null,
   "metadata": {},
   "outputs": [],
   "source": []
  }
 ],
 "metadata": {
  "kernelspec": {
   "display_name": "Python 3",
   "language": "python",
   "name": "python3"
  },
  "language_info": {
   "codemirror_mode": {
    "name": "ipython",
    "version": 3
   },
   "file_extension": ".py",
   "mimetype": "text/x-python",
   "name": "python",
   "nbconvert_exporter": "python",
   "pygments_lexer": "ipython3",
   "version": "3.8.5"
  }
 },
 "nbformat": 4,
 "nbformat_minor": 2
}
