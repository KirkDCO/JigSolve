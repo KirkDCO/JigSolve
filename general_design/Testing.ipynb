{
 "cells": [
  {
   "cell_type": "code",
   "execution_count": 1,
   "metadata": {},
   "outputs": [],
   "source": [
    "import matplotlib.pyplot as plt\n",
    "import math\n",
    "\n",
    "from PuzzlePiece import PuzzlePiece\n",
    "from Utilities import *"
   ]
  },
  {
   "cell_type": "code",
   "execution_count": 2,
   "metadata": {},
   "outputs": [],
   "source": [
    "p = PuzzlePiece('../general_design/pieces/C_border.csv')"
   ]
  },
  {
   "cell_type": "code",
   "execution_count": null,
   "metadata": {},
   "outputs": [],
   "source": [
    "# verify order is as expected\n",
    "\n",
    "plt.figure(figsize=[10,10])\n",
    "\n",
    "for k,pt in p.border_sample.items():  \n",
    "    if k == 0:\n",
    "        z = 144\n",
    "    else:\n",
    "        z = k\n",
    "    plt.scatter(pt['x'], pt['y'], s = z, c = 'black')\n",
    "    \n",
    "plt.scatter(p.x_center, p.y_center, s=100, c='red')\n",
    "                 "
   ]
  }
 ],
 "metadata": {
  "kernelspec": {
   "display_name": "Python 3",
   "language": "python",
   "name": "python3"
  },
  "language_info": {
   "codemirror_mode": {
    "name": "ipython",
    "version": 3
   },
   "file_extension": ".py",
   "mimetype": "text/x-python",
   "name": "python",
   "nbconvert_exporter": "python",
   "pygments_lexer": "ipython3",
   "version": "3.7.5"
  }
 },
 "nbformat": 4,
 "nbformat_minor": 2
}
